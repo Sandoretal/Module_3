{
 "cells": [
  {
   "cell_type": "code",
   "execution_count": null,
   "id": "de8ee0b7",
   "metadata": {},
   "outputs": [],
   "source": [
    "import sys, pandas as pd, matplotlib, sklearn\n",
    "print(\"Python OK:\", sys.version)\n",
    "print(\"pandas:\", pd.__version__)\n",
    "print(\"matplotlib:\", matplotlib.__version__)\n",
    "\n",
    "import matplotlib.pyplot as plt\n",
    "import numpy as np\n",
    "s = pd.Series(np.random.randn(200)).cumsum()\n",
    "s.plot(title=\"Pre-course sanity check\")\n",
    "plt.show()"
   ]
  },
  {
   "cell_type": "code",
   "execution_count": null,
   "id": "796c5329",
   "metadata": {},
   "outputs": [],
   "source": [
    "df = pd.read_csv(\"demo.csv\")\n",
    "display(df.head())\n",
    "df['score'].hist()"
   ]
  }
 ],
 "metadata": {
  "language_info": {
   "name": "python"
  }
 },
 "nbformat": 4,
 "nbformat_minor": 5
}

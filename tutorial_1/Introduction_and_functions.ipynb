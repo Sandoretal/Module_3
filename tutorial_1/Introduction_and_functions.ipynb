{
 "cells": [
  {
   "cell_type": "markdown",
   "id": "a728f477",
   "metadata": {},
   "source": [
    "\n",
    "# Real-world data coding for neuroscientists (ReCoN)\n",
    "\n",
    "### MSc in Translational Neuroscience,\n",
    "\n",
    "### Department of Brain Sciences, Faculty of Medicine,\n",
    "\n",
    "### Imperial College London\n",
    "\n",
    "### Contributors: Cecilia Rodriguez, Katarzyna Zoltowska, Rishideep Chatterjee, Marirena Bafaloukou, Anastasia Ilina, Sahar Rahbar, Cynthia Sandor\n",
    "\n",
    "### Autumn 2025"
   ]
  },
  {
   "cell_type": "markdown",
   "id": "ae84e7d2",
   "metadata": {},
   "source": [
    "# Introduction to python"
   ]
  },
  {
   "cell_type": "markdown",
   "id": "2537cf77",
   "metadata": {},
   "source": [
    "**Python is a popular, high-level, general-purpose programming language known for its readable, English-like syntax, making it easy to learn and use.**\n",
    "\n",
    "**It is commonly used in data science, bioinformatics and machine learning fields.**\n",
    "\n",
    "**Why do programmers love python?**\n",
    "- Simple. English-like syntax\n",
    "- Open-source\n",
    "- Fast \n",
    "- Easy to debug\n",
    "- Availability of well-documented libraries for data processing, visualisation, machine learning...\n",
    "\n",
    "**Python syntax**\n",
    "- Uses new line to complete a command\n",
    "- Uses indentations to define scope (blocks of code)\n",
    "\n",
    "**How to run python code?**\n",
    "- Python file with an extenstion .py: e.g. run a python script from the command line in the terminal: python script.py \n",
    "- Using jupyter notebooks - this allows for generating nice reports including markdown, tables and plots. Jupyter notebooks are run interactively and the file extensions are .ipynb. During this workshop we will be using jupyter notebooks. \n"
   ]
  },
  {
   "cell_type": "markdown",
   "id": "682f277d",
   "metadata": {},
   "source": [
    "The \"Zen of Python\" is a set of aphorisms by Tim Peters that serve as guiding principles for writing elegant, readable, and Pythonic code, emphasizing simplicity, explicitness, and readability.\n",
    "The poem is \"hidden\" inside python and can be accessed through: import this\n",
    "\n",
    "*Beautiful is better than ugly.<br>\n",
    "Explicit is better than implicit.<br>\n",
    "Simple is better than complex.<br>\n",
    "Complex is better than complicated.<br>\n",
    "Flat is better than nested.<br>\n",
    "Sparse is better than dense.<br>\n",
    "Readability counts.<br>\n",
    "Special cases aren't special enough to break the rules.<br>\n",
    "Although practicality beats purity.<br>\n",
    "Errors should never pass silently.<br>\n",
    "Unless explicitly silenced.<br>\n",
    "In the face of ambiguity, refuse the temptation to guess.<br>\n",
    "There should be one-- and preferably only one --obvious way to do it.<br>\n",
    "Although that way may not be obvious at first unless you're Dutch.<br>\n",
    "Now is better than never.<br>\n",
    "Although never is often better than *right* now.<br>\n",
    "If the implementation is hard to explain, it's a bad idea.<br>\n",
    "If the implementation is easy to explain, it may be a good idea.<br>\n",
    "Namespaces are one honking great idea -- let's do more of those!*<br>"
   ]
  },
  {
   "cell_type": "markdown",
   "id": "a2342b1b",
   "metadata": {},
   "source": [
    "---\n",
    "### 1. Let's run our first python code\n",
    "---"
   ]
  },
  {
   "cell_type": "markdown",
   "id": "b037ed00",
   "metadata": {},
   "source": [
    "#### Print function"
   ]
  },
  {
   "cell_type": "code",
   "execution_count": null,
   "id": "993ec672",
   "metadata": {},
   "outputs": [],
   "source": [
    "print(\"Hello world\")"
   ]
  },
  {
   "cell_type": "markdown",
   "id": "d4059f60",
   "metadata": {},
   "source": [
    "#### Using python as a calculator"
   ]
  },
  {
   "cell_type": "code",
   "execution_count": null,
   "id": "b505453a",
   "metadata": {},
   "outputs": [],
   "source": [
    "2+92"
   ]
  },
  {
   "cell_type": "markdown",
   "id": "3ecd9036",
   "metadata": {},
   "source": [
    "#### Counting letters in a word"
   ]
  },
  {
   "cell_type": "code",
   "execution_count": null,
   "id": "c804f1bd",
   "metadata": {},
   "outputs": [],
   "source": [
    "len(\"Hello\")"
   ]
  },
  {
   "cell_type": "code",
   "execution_count": null,
   "id": "15079ccd",
   "metadata": {},
   "outputs": [],
   "source": [
    "len(Hello)"
   ]
  },
  {
   "cell_type": "markdown",
   "id": "857e8267",
   "metadata": {},
   "source": [
    "Oh no! We got an error. Why?\n",
    "\n",
    "Python does not see Hello as a string but as a variable. "
   ]
  },
  {
   "cell_type": "markdown",
   "id": "2bea53f8",
   "metadata": {},
   "source": [
    "#### Creating variables\n",
    "\n",
    "Variable is a container that stores data values."
   ]
  },
  {
   "cell_type": "code",
   "execution_count": null,
   "id": "66fc8985",
   "metadata": {},
   "outputs": [],
   "source": [
    "# Here we assign 3 to a and 4 to b and then we can use those variables to perform operations\n",
    "a=3\n",
    "b=4\n",
    "c=a/b\n",
    "print(c)"
   ]
  },
  {
   "cell_type": "markdown",
   "id": "fbf730c3",
   "metadata": {},
   "source": [
    "#### How to check the type of a variable?\n",
    "More on data types later."
   ]
  },
  {
   "cell_type": "code",
   "execution_count": null,
   "id": "97e3d76f",
   "metadata": {},
   "outputs": [],
   "source": [
    "# Check the type of variable?\n",
    "print(type(a))\n",
    "print(type(c))"
   ]
  },
  {
   "cell_type": "markdown",
   "id": "0aef6f88",
   "metadata": {},
   "source": [
    "The type of a is int and the type of c is float. But what does this mean?"
   ]
  },
  {
   "cell_type": "markdown",
   "id": "66b5d80b",
   "metadata": {},
   "source": [
    "---\n",
    "### 2. Data types in python\n",
    "---\n",
    "\n",
    "| Data Type     | Description                            | Example                         |\n",
    "|---------------|----------------------------------------|---------------------------------|\n",
    "| `int`         | Integer numbers                        | `5`, `-10`, `0`                 |\n",
    "| `float`       | Floating-point numbers                 | `3.14`, `-0.001`, `2.0`         |\n",
    "| `bool`        | Boolean values                         | `True`, `False`                 |\n",
    "| `str`         | String of characters                   | `\"hello\"`, `'Python'`           |\n",
    "| `list`        | Ordered, mutable sequence              | `[1, 2, 3]`, `['a', 'b']`       |\n",
    "| `tuple`       | Ordered, immutable sequence            | `(1, 2)`, `('x', 'y', 'z')`     |\n",
    "| `set`         | Unordered collection of unique items   | `{1, 2, 3}`, `{'a', 'b'}`       |         \n",
    "| `dict`        | Key-value pairs                        | `{'a': 1, 'b': 2}`              |\n",
    "                      \n"
   ]
  },
  {
   "cell_type": "markdown",
   "id": "bd2f3045",
   "metadata": {},
   "source": [
    "#### Examples from biomedical field\n",
    "\n",
    "| Data Type | Why Useful in Medical/Neurology Context                                      | Example |\n",
    "|-----------|------------------------------------------------------------------------------|---------|\n",
    "| `int`     | Used for whole-number values like patient age, heart rate, test scores.     | `age = 55`, `heart_rate = 72` |\n",
    "| `float`   | Captures precise measurements like BMI, glucose level, brain volume.         | `bmi = 24.7`, `brain_volume = 1350.8` |\n",
    "| `bool`    | Represents binary conditions like symptoms present/absent, test positive/negative. | `has_seizures = True`, `mri_abnormal = False` |\n",
    "| `str`     | Stores textual data like patient names, diagnoses, or medication names.      | `diagnosis = \"Epilepsy\"`, `medication = \"Levetiracetam\"` |\n",
    "| `list`    | Used for collections like symptoms, medications, visit dates.                | `symptoms = [\"headache\", \"nausea\", \"dizziness\"]` |\n",
    "| `tuple`   | Stores fixed sets of data, like coordinates in brain scans or immutable records. | `scan_resolution = (256, 256)`, `coordinates = (34.2, -117.1)` |\n",
    "| `set`     | Holds unique unordered data, such as known allergies or genetic markers.     | `allergies = {\"penicillin\", \"latex\"}` |\n",
    "| `dict`    | Key-value pairs for structured patient records, labs, or visit notes.        | `patient = {\"name\": \"John\", \"age\": 50, \"diagnosis\": \"Stroke\"}` |\n"
   ]
  },
  {
   "cell_type": "markdown",
   "id": "330ca695",
   "metadata": {},
   "source": [
    "#### Before you review the examples, let's take a look at the printing function syntax in the code below. \n"
   ]
  },
  {
   "cell_type": "code",
   "execution_count": null,
   "id": "1277103d",
   "metadata": {},
   "outputs": [],
   "source": [
    "x=\"Hello World\"\n",
    "print(f\"{x} is {type(x)}\\n{80*'='}\")"
   ]
  },
  {
   "cell_type": "markdown",
   "id": "75a27ba0",
   "metadata": {},
   "source": [
    "In the above cell we use f-string for string formating.<br>\n",
    "The {} brackets allow us to use a variable inside the string, and are called placeholders.<br>\n",
    "As you see in the example, you can use not only a variable, but also a function inside the curly brackets. <br>\n",
    "The \\n stands for a new line.<br>\n",
    "The 80*'=' is just creating a line composed of 80 = signs for a nicer formatting. <br>\n",
    "Note the use of different quotes: \" vs '. You need to nest different types of quotes. Using \" everywhere will not work.<br>"
   ]
  },
  {
   "cell_type": "markdown",
   "id": "5f4ce62c",
   "metadata": {},
   "source": [
    "Another useful feature of the string formating is formating numbers inside a string. "
   ]
  },
  {
   "cell_type": "code",
   "execution_count": null,
   "id": "eb94b46d",
   "metadata": {},
   "outputs": [],
   "source": [
    "# Let's print a number - a result of a devision\n",
    "print(f\"The number is {4/3}\")"
   ]
  },
  {
   "cell_type": "markdown",
   "id": "9d5d68e5",
   "metadata": {},
   "source": [
    "This does not look nice. Can we format it to show just 2 decimal places? Yes, we can."
   ]
  },
  {
   "cell_type": "code",
   "execution_count": null,
   "id": "0c87228c",
   "metadata": {},
   "outputs": [],
   "source": [
    "print(f\"The number is {4/3.:.2f}\")"
   ]
  },
  {
   "cell_type": "markdown",
   "id": "4e88219e",
   "metadata": {},
   "source": [
    "#### Let's go back to the data types and see some examples"
   ]
  },
  {
   "cell_type": "code",
   "execution_count": null,
   "id": "7cd4bea2",
   "metadata": {},
   "outputs": [],
   "source": [
    "# String - textual data such as diagnosis or symptom\n",
    "x = \"Parkinson's Disease\"\n",
    "print(f\"{x} is {type(x)}\\n{80*'='}\")\n",
    "\n",
    "# Integer - a whole number: patient age, UPDRS score\n",
    "x = 65  # age of patient\n",
    "print(f\"{x} is {type(x)}\\n{80*'='}\")\n",
    "\n",
    "# Float - a number with decimal: tremor frequency, medication dosage\n",
    "x = 1.5  # tremor frequency in Hz\n",
    "print(f\"{x} is {type(x)}\\n{80*'='}\")\n",
    "\n",
    "# List - a sequence of items such as symptoms or medication names\n",
    "x = [\"tremor\", \"bradykinesia\", \"rigidity\", \"tremor\"]  # symptoms (duplicates allowed)\n",
    "print(f\"{x} is {type(x)}\\n{80*'='}\")\n",
    "\n",
    "# Tuple - fixed set of immutable values like MRI scan dimensions or fixed coordinates\n",
    "x = (256, 256, 150)  # dimensions of brain scan\n",
    "print(f\"{x} is {type(x)}\\n{80*'='}\")\n",
    "\n",
    "# Range - e.g., simulating time points in signal analysis\n",
    "x = range(20)  # 20 time points \n",
    "print(f\"{x} is {type(x)}\\n{80*'='}\")\n",
    "\n",
    "# Dictionary - structured patient record with key-value pairs\n",
    "x = {\n",
    "    \"name\": \"Alice\",\n",
    "    \"age\": 68,\n",
    "    \"diagnosis\": \"Parkinson's Disease\",\n",
    "    \"UPDRS_score\": 42\n",
    "}\n",
    "print(f\"{x} is {type(x)}\\n{80*'='}\")\n",
    "\n",
    "# Set - unique items such as known gene mutations or allergens\n",
    "x = {\"LRRK2\", \"PINK1\", \"SNCA\"}  # genes linked to Parkinson's disease\n",
    "print(f\"{x} is {type(x)}\\n{80*'='}\")\n"
   ]
  },
  {
   "cell_type": "markdown",
   "id": "1031954f",
   "metadata": {},
   "source": [
    "#### Why data types matter?"
   ]
  },
  {
   "cell_type": "code",
   "execution_count": null,
   "id": "316ac286",
   "metadata": {},
   "outputs": [],
   "source": [
    "# Lists are mutable - can be changed\n",
    "symptoms_list = [\"tremor\", \"rigidity\"]\n",
    "symptoms_list.append(\"bradykinesia\")\n",
    "\n",
    "symptoms_list"
   ]
  },
  {
   "cell_type": "code",
   "execution_count": null,
   "id": "2bf6a5b0",
   "metadata": {},
   "outputs": [],
   "source": [
    "# Tuples are immutable - cannot be changed\n",
    "scan_resolution = (256, 256, 150)\n",
    "scan_resolution[0] = 512 # TypeError (this action would fail) - resolution can have only 3 coordinates"
   ]
  },
  {
   "cell_type": "markdown",
   "id": "c4a97ac1",
   "metadata": {},
   "source": [
    "### Simple methods applied on different data types"
   ]
  },
  {
   "cell_type": "markdown",
   "id": "d0d68f8e",
   "metadata": {},
   "source": [
    "##### String methods\n",
    "\n",
    "To call a methog on a python object we can use a . notation. The dot is followed by a function().\n"
   ]
  },
  {
   "cell_type": "markdown",
   "id": "959b0e05",
   "metadata": {},
   "source": [
    "| Method           | Description                                      | Example                                                 | Output                      |\n",
    "|------------------|--------------------------------------------------|----------------------------------------------------------|-----------------------------|\n",
    "| `.lower()`       | Converts all characters to lowercase             | `\"Parkinson\".lower()`                                   | `'parkinson'`              |\n",
    "| `.upper()`       | Converts all characters to uppercase             | `\"dopamine\".upper()`                                    | `'DOPAMINE'`               |\n",
    "| `.capitalize()`  | Capitalizes the first letter                     | `\"tremor\".capitalize()`                                 | `'Tremor'`                 |\n",
    "| `.title()`       | Capitalizes the first letter of each word        | `\"parkinson's disease\".title()`                           | `'Parkinson's Disease'`      |\n",
    "| `.strip()`       | Removes leading/trailing whitespace              | `\"  rigidity  \".strip()`                                | `'rigidity'`               |\n",
    "| `.replace(a, b)` | Replaces `a` with `b`                            | `\"UPDRS Score\".replace(\" \", \"_\")`                       | `'UPDRS_Score'`            |\n",
    "| `.split()`       | Splits string into list                         | `\"tremor,rigidity,slowness\".split(\",\")`                 | `['tremor', 'rigidity', 'slowness']` |\n",
    "| `.join()`        | Joins list into string using a separator         | `\" - \".join([\"tremor\", \"gait\", \"balance\"])`             | `'tremor - gait - balance'`|\n",
    "| `.find()`        | Returns index of first occurrence                | `\"bradykinesia\".find(\"kin\")`                            | `5`                        |\n",
    "| `.startswith()`  | Checks if string starts with substring           | `\"Parkinson's\".startswith(\"Park\")`                      | `True`                     |\n",
    "| `.endswith()`    | Checks if string ends with substring             | `\"medication.pdf\".endswith(\".pdf\")`                     | `True`                     |\n",
    "| `.count()`       | Counts occurrences of substring                  | `\"tremor tremor tremor\".count(\"tremor\")`                | `3`                        |\n",
    "| `.isalpha()`     | Checks if all characters are letters             | `\"GaitTest\".isalpha()`                                  | `True`                     |\n",
    "| `.isdigit()`     | Checks if all characters are digits              | `\"1234\".isdigit()`                                      | `True`                     |\n"
   ]
  },
  {
   "cell_type": "code",
   "execution_count": null,
   "id": "8eaa10df",
   "metadata": {},
   "outputs": [],
   "source": [
    "# Different methods that can be applied on strings - examples\n",
    "\n",
    "x=\"Hello World\"\n",
    "\n",
    "# Get 3rd character of the string\n",
    "print(f\"The third character of the string is {x[2]}.\") #in python one counts from 0\n",
    "\n",
    "# Check the length of the string\n",
    "print(f\"The string has {len(x)} characters.\")\n",
    "\n",
    "# Concatenate strings - put 2 strings together\n",
    "y=\"Hello\"\n",
    "z=\"World\"\n",
    "\n",
    "print(\"The concatenated string is \"+y+\" \"+z+\".\")\n",
    "\n",
    "# Capitalise string\n",
    "a=\"hello\"\n",
    "print(f\"The string starting with capital letter is {a.capitalize()}.\") # Converts the first character to capital letter\n",
    "print(f\"The string in all capital letters is {a.upper()}.\") # Converts all letters to capitals\n",
    "\n",
    "# Replace part of the string\n",
    "print(f\"The new string is {x.replace('World', 'Universe')}.\") # Replaces world Hello with Universe."
   ]
  },
  {
   "cell_type": "code",
   "execution_count": null,
   "id": "d7dcd58c",
   "metadata": {},
   "outputs": [],
   "source": [
    "# Example using different data types and string methods\n",
    "\n",
    "dose_count = 3                      # Integer: number of doses\n",
    "dose_price = 12.5                   # Float: price per dose in GBP\n",
    "medication = \"Levodopa\"            # String: medication name\n",
    "\n",
    "print(f\"{dose_count} {medication.lower()} doses cost {dose_price * dose_count:.2f} GBP.\")"
   ]
  },
  {
   "cell_type": "markdown",
   "id": "f398eab0",
   "metadata": {},
   "source": [
    "But what if we would like to do some maths and someone stored the numbers as a string?"
   ]
  },
  {
   "cell_type": "code",
   "execution_count": null,
   "id": "7506c9ae",
   "metadata": {},
   "outputs": [],
   "source": [
    "a=\"3.2\"\n",
    "b=3\n",
    "a+b"
   ]
  },
  {
   "cell_type": "markdown",
   "id": "22e8dea8",
   "metadata": {},
   "source": [
    "We get an error but python already suggests us what is the problem and how to solve it.<br>\n",
    "Let's look at the error: <br>TypeError - cannot add string to integer. Luckily, we can fix that using casting. We can change the data type using:\n",
    "- str() - converts to string\n",
    "- float() - converts to float\n",
    "- int() - converts to integer"
   ]
  },
  {
   "cell_type": "code",
   "execution_count": null,
   "id": "daa6f8e2",
   "metadata": {},
   "outputs": [],
   "source": [
    "a=\"3.2\"\n",
    "b=3\n",
    "float(a)+b"
   ]
  },
  {
   "cell_type": "markdown",
   "id": "51e329a7",
   "metadata": {},
   "source": [
    "##### List methods"
   ]
  },
  {
   "cell_type": "markdown",
   "id": "e70824c5",
   "metadata": {},
   "source": [
    "| Method           | Description                                         | Example                                                   | Output / Effect                          |\n",
    "|------------------|-----------------------------------------------------|------------------------------------------------------------|-------------------------------------------|\n",
    "| `.append(x)`     | Adds item `x` to the end of the list                | `symptoms.append(\"fatigue\")`                              | Adds `\"fatigue\"` to the `symptoms` list   |\n",
    "| `.extend(iter)`  | Adds all items from another iterable                | `symptoms.extend([\"tremor\", \"rigidity\"])`                 | Adds both `\"tremor\"` and `\"rigidity\"`     |\n",
    "| `.insert(i, x)`  | Inserts item `x` at index `i`                       | `medications.insert(1, \"Levodopa\")`                       | Inserts `\"Levodopa\"` at position 1        |\n",
    "| `.remove(x)`     | Removes first occurrence of item `x`                | `symptoms.remove(\"tremor\")`                               | Removes `\"tremor\"` from the list          |\n",
    "| `.pop(i)`        | Removes and returns item at index `i`               | `symptoms.pop(0)`                                         | Removes and returns first symptom         |\n",
    "| `.index(x)`      | Returns index of first occurrence of item `x`       | `medications.index(\"Amantadine\")`                         | Returns index of `\"Amantadine\"`           |\n",
    "| `.count(x)`      | Counts how many times item `x` appears              | `symptoms.count(\"rigidity\")`                              | Returns number of `\"rigidity\"` instances  |\n",
    "| `.sort()`        | Sorts list in place (ascending by default)          | `updrs_scores.sort()`                                     | Sorts UPDRS scores from lowest to highest |\n",
    "| `.reverse()`     | Reverses the order of the list                      | `visit_dates.reverse()`                                   | Reverses the order of visit dates         |\n",
    "| `.copy()`        | Returns a shallow copy of the list                  | `copy_scores = updrs_scores.copy()`                       | Makes a copy of the `updrs_scores` list   |\n",
    "| `.clear()`       | Removes all items from the list                     | `symptoms.clear()`                                        | Empties the `symptoms` list               |\n"
   ]
  },
  {
   "cell_type": "code",
   "execution_count": null,
   "id": "57f99b01",
   "metadata": {},
   "outputs": [],
   "source": [
    "# Different methods that can be applied on lists (examples shown below)\n",
    "x = [\"tremor\", \"bradykinesia\", \"rigidity\", \"tremor\"]\n",
    "\n",
    "# Access list items\n",
    "# Retrieve first element of the list\n",
    "print(f\"The first element of the list is {(first_el := x[0])}.\")  # := is the walrus operator\n",
    "\n",
    "# The element was also assigned to a new variable\n",
    "print(first_el)\n",
    "\n",
    "# Add an element to the list\n",
    "x.append(\"postural instability\")  # the original list gets modified in place\n",
    "print(f\"The new list is {x}.\")\n",
    "\n",
    "# Remove an element from the list\n",
    "x.remove(\"tremor\")  # removes the first occurrence only\n",
    "print(f\"The new list is {x}.\")\n",
    "\n",
    "# Change the 3rd element of the list\n",
    "x[2] = \"depression\"\n",
    "\n",
    "# Sort list\n",
    "x.sort()\n",
    "print(f\"The sorted list is {x}.\")\n",
    "\n",
    "# Loop over the elements of the list\n",
    "print(\"=\" * 80)\n",
    "for i in x:\n",
    "    print(i)\n",
    "\n",
    "# Enumerate function allows to assign the indexes to the list (object) elements\n",
    "print(\"=\" * 80)\n",
    "for n, i in enumerate(x):\n",
    "    print(f\"Symptom #{n} is {i}.\")\n"
   ]
  },
  {
   "cell_type": "markdown",
   "id": "9e2d2f43",
   "metadata": {},
   "source": [
    "#### Dictionary methods"
   ]
  },
  {
   "cell_type": "markdown",
   "id": "be3f2251",
   "metadata": {},
   "source": [
    "| Method              | Description                                             | Example                                                                 | Output / Effect                                                       |\n",
    "|---------------------|---------------------------------------------------------|-------------------------------------------------------------------------|------------------------------------------------------------------------|\n",
    "| `.get(key)`         | Returns the value for the specified key                | `patient.get(\"diagnosis\")`                                              | `'Parkinson's Disease'`                                               |\n",
    "| `.keys()`           | Returns a view of all keys                             | `patient.keys()`                                                        | `dict_keys(['name', 'age', 'diagnosis'])`                             |\n",
    "| `.values()`         | Returns a view of all values                           | `patient.values()`                                                      | `dict_values(['Alice', 68, 'Parkinson's Disease'])`                   |\n",
    "| `.items()`          | Returns a view of key-value pairs                      | `patient.items()`                                                       | `dict_items([('name', 'Alice'), ('age', 68), ...])`                   |\n",
    "| `.update(dict)`     | Updates dictionary with key-value pairs from another   | `patient.update({\"UPDRS\": 42})`                                         | Adds `'UPDRS': 42` to dictionary                                       |\n",
    "| `.pop(key)`         | Removes the key and returns its value                  | `patient.pop(\"age\")`                                                    | Returns `68`, removes `\"age\"` from dictionary                         |\n",
    "| `.popitem()`        | Removes and returns the last inserted key-value pair   | `patient.popitem()`                                                     | e.g., `('diagnosis', 'Parkinson's Disease')`                          |\n",
    "| `.clear()`          | Removes all items from the dictionary                  | `patient.clear()`                                                       | Dictionary becomes `{}`                                               |\n",
    "| `.copy()`           | Returns a shallow copy of the dictionary               | `new_patient = patient.copy()`                                          | `new_patient` is a separate copy of `patient`                         |\n",
    "     \n"
   ]
  },
  {
   "cell_type": "code",
   "execution_count": null,
   "id": "d3c1de27",
   "metadata": {},
   "outputs": [],
   "source": [
    "# Original dictionary with Parkinson's symptoms and severity levels\n",
    "x = {\n",
    "    \"tremor\": \"mild\",\n",
    "    \"bradykinesia\": \"moderate\",\n",
    "    \"rigidity\": \"severe\"\n",
    "}\n",
    "\n",
    "# Add a new symptom with its severity\n",
    "x[\"postural instability\"] = \"moderate\"\n",
    "print(\"The new dictionary is:\")\n",
    "print(x)\n",
    "\n",
    "# Get the keys, values or key:value pairs from the dictionary\n",
    "print(\"=\" * 80)\n",
    "print(\"The symptoms are:\")\n",
    "for k in x.keys():\n",
    "    print(k)\n",
    "\n",
    "print(\"=\" * 80)\n",
    "print(\"The severity levels are:\")\n",
    "for v in x.values():\n",
    "    print(v)\n",
    "\n",
    "print(\"=\" * 80)\n",
    "print(\"The symptom:severity pairs are:\")\n",
    "for k, v in x.items():\n",
    "    print(f\"{k}: {v}\")\n",
    "\n",
    "# Reverse keys and values in the dictionary\n",
    "# (severity becomes key, symptom becomes value — note: values must be unique for meaningful reversal)\n",
    "y = {v: k for k, v in x.items()}\n",
    "print(\"=\" * 80)\n",
    "print(\"The reversed dictionary (severity:symptom) is:\")\n",
    "for k, v in y.items():\n",
    "    print(f\"{k}: {v}\")"
   ]
  },
  {
   "cell_type": "markdown",
   "id": "d84814da",
   "metadata": {},
   "source": [
    "#### Combining 2 lists into a dictionary"
   ]
  },
  {
   "cell_type": "markdown",
   "id": "31cb98a4",
   "metadata": {},
   "source": [
    "A very useful functionality is to combine two lists into a dictionary, with one list becoming keys and the other becoming values."
   ]
  },
  {
   "cell_type": "code",
   "execution_count": null,
   "id": "c5527cc2",
   "metadata": {},
   "outputs": [],
   "source": [
    "# Lists of symptoms and their severity levels\n",
    "symptoms = [\"tremor\", \"bradykinesia\", \"rigidity\"]\n",
    "severity = [\"mild\", \"moderate\", \"severe\"]\n",
    "\n",
    "# Combine two lists into a dictionary\n",
    "symptom_severity_dict = dict(zip(symptoms, severity))\n",
    "\n",
    "print(symptom_severity_dict)"
   ]
  },
  {
   "cell_type": "markdown",
   "id": "e5f572e6",
   "metadata": {},
   "source": [
    "#### List comprehensions\n",
    "\n",
    "A list comprehension creates a new list by applying an expression to each item in an existing iterable (like a list).\n",
    "\n",
    "Synthax:\n",
    "`new_list = [expression for item in iterable if condition]`\n"
   ]
  },
  {
   "cell_type": "code",
   "execution_count": null,
   "id": "7f70b951",
   "metadata": {},
   "outputs": [],
   "source": [
    "severities = [\"mild\", \"moderate\", \"severe\"]\n",
    "upper_severities = [s.upper() for s in severities]\n",
    "print(upper_severities)\n"
   ]
  },
  {
   "cell_type": "code",
   "execution_count": null,
   "id": "69ac6f1e",
   "metadata": {},
   "outputs": [],
   "source": [
    "symptoms = [\"tremor\", \"rigidity\", \"fatigue\", \"bradykinesia\"]\n",
    "selected_symptoms = [s for s in symptoms if s.startswith(\"t\")]\n",
    "print(selected_symptoms)"
   ]
  },
  {
   "cell_type": "markdown",
   "id": "20359a94",
   "metadata": {},
   "source": [
    "#### Dictionary comprehensions\n",
    "\n",
    "A dictionary comprehension creates a new dictionary by generating key-value pairs from an iterable.\n",
    "\n",
    "Synthax:\n",
    "`new_dict = {key_expression: value_expression for item in iterable if condition}`"
   ]
  },
  {
   "cell_type": "code",
   "execution_count": null,
   "id": "cc85b4be",
   "metadata": {},
   "outputs": [],
   "source": [
    "symptoms = [\"tremor\", \"rigidity\", \"bradykinesia\"]\n",
    "severities = [\"mild\", \"severe\", \"moderate\"]\n",
    "\n",
    "symptom_severity = {symptoms[i]: severities[i] for i in range(len(symptoms))}\n",
    "print(symptom_severity)\n"
   ]
  },
  {
   "cell_type": "code",
   "execution_count": null,
   "id": "191d1115",
   "metadata": {},
   "outputs": [],
   "source": [
    "symptom_severity = {\n",
    "    \"tremor\": \"mild\",\n",
    "    \"rigidity\": \"severe\",\n",
    "    \"bradykinesia\": \"moderate\",\n",
    "    \"postural instability\": \"severe\"\n",
    "}\n",
    "\n",
    "severe_symptoms = {symptom: severity for symptom, severity in symptom_severity.items() if severity == \"severe\"}\n",
    "print(severe_symptoms)\n"
   ]
  },
  {
   "cell_type": "markdown",
   "id": "8ae13032",
   "metadata": {},
   "source": [
    "---\n",
    "### 3. Arithmetic, comparison, assignment and logical operators\n",
    "---"
   ]
  },
  {
   "cell_type": "markdown",
   "id": "dddad284",
   "metadata": {},
   "source": [
    "#### Arithmetic operators\n",
    "| Operator | Name           | Description     |\n",
    "|----------|----------------|-----------------|\n",
    "| +        | Addition       | Adds two numbers|\n",
    "| -        | Subtraction    | Subtracts one number from another |\n",
    "| *        | Multiplication | Multiplies two numbers |\n",
    "| /        | Division       | Divides one number by another (returns float) |\n",
    "| %        | Modulus        | Returns remainder of division |\n",
    "| **       | Exponential    | Raises a number to the power of another |\n",
    "| //       | Floor Division | Divides and returns the integer part (floor) |"
   ]
  },
  {
   "cell_type": "code",
   "execution_count": null,
   "id": "bf3cb637",
   "metadata": {},
   "outputs": [],
   "source": [
    "# Examples\n",
    "\n",
    "print(9/7)\n",
    "\n",
    "print(9%7)\n",
    "\n",
    "print(9//7)"
   ]
  },
  {
   "cell_type": "markdown",
   "id": "70a78db5",
   "metadata": {},
   "source": [
    "#### Comparison operators\n",
    "| Operator | Name                    | Description                              |\n",
    "|----------|-------------------------|------------------------------------------|\n",
    "| ==       | Equal                   | Checks if two values are equal            |\n",
    "| !=       | Not equal               | Checks if two values are not equal        |\n",
    "| >        | Greater than            | Checks if left value is greater than right|\n",
    "| <        | Less than               | Checks if left value is less than right   |\n",
    "| >=       | Greater than or equal to| Checks if left value is greater or equal  |\n",
    "| <=       | Less than or equal to   | Checks if left value is less or equal      |\n"
   ]
  },
  {
   "cell_type": "markdown",
   "id": "34767f98",
   "metadata": {},
   "source": [
    "#### Assignment operators\n",
    "| Operator | Example      | Description                                                   |\n",
    "|----------|--------------|---------------------------------------------------------------|\n",
    "| =        | `x = 3`      | Assignment operator: assigns value 3 to variable `x`          |\n",
    "| +=       | `x += 1`     | Increment assignment: equivalent to `x = x + 1`                |\n",
    "| -=       | `x -= 1`     | Decrement assignment: equivalent to `x = x - 1`                |\n",
    "\n",
    "\n",
    "The two last ones are used a lot in loops."
   ]
  },
  {
   "cell_type": "markdown",
   "id": "992171f5",
   "metadata": {},
   "source": [
    "#### Logical operators\n",
    "| Operator | Description                          | Example                      | Result          |\n",
    "|----------|------------------------------------|------------------------------|-----------------|\n",
    "| and      | Returns True if **both** statements are True | `(x > 5) and (x < 10)`       | True if both conditions true |\n",
    "| or       | Returns True if **at least one** statement is True | `(x < 5) or (x > 10)`        | True if one or both true     |\n",
    "| not      | Reverses the result (negates)      | `not(x == 5)`                 | True if `x` is not 5         |\n"
   ]
  },
  {
   "cell_type": "code",
   "execution_count": null,
   "id": "7441d471",
   "metadata": {},
   "outputs": [],
   "source": [
    "# Examples\n",
    "x=6\n",
    "\n",
    "# Check if x<8 or x>3\n",
    "print(x<8 or x>3)\n",
    "\n",
    "# Check if x equals 3\n",
    "print(x==3)"
   ]
  },
  {
   "cell_type": "markdown",
   "id": "31e82aec",
   "metadata": {},
   "source": [
    "---\n",
    "### 4. Python modules\n",
    "---\n",
    "##### What is a library/module?\n",
    "Python library is a collection of modules. Module is a file consisting of Python code. It defines functions, classes, and variables.\n",
    "##### How to install a library?\n",
    "```%pip install library_name``` (the % operator allows to install directly from jupyter notebook)\n",
    "Alternatively, create conda environment and install modules using ```conda install library_name```\n",
    "##### How to make it available?\n",
    "```import library_name```\n",
    "If you need only part of the library you can use ```from library_name import module_name```\n",
    "##### Examples of powerful modules in data science:\n",
    "- 🐼 pandas - DataFrame manipulation\n",
    "- 🔢 numpy - Working with arrays\n",
    "- 📊 seaborn and 📉 matplotlib - Plotting and visualization\n",
    "- 🤖 scikit-learn - Machine learning"
   ]
  },
  {
   "cell_type": "markdown",
   "id": "0819eb32",
   "metadata": {},
   "source": [
    "### Let's try our first module"
   ]
  },
  {
   "cell_type": "code",
   "execution_count": null,
   "id": "378ea6b7",
   "metadata": {},
   "outputs": [],
   "source": [
    "# preinstalled modules include random, os, etc.\n",
    "\n",
    "# random module allows to generate random numbers\n",
    "import random\n",
    "#choose a random number\n",
    "print(f\"The chosen random number is: {random.choice([1,3,4,0,2,3,0])}\") \n",
    "\n",
    "# Generate random number between 0 and 1\n",
    "print(f\"A random number is: {random.random():.2f}\") # the :.2f allows to format the number and show only 2 decimal places"
   ]
  },
  {
   "cell_type": "markdown",
   "id": "886c4f2a",
   "metadata": {},
   "source": [
    "---\n",
    "### 5. Loops and conditionals\n",
    "---"
   ]
  },
  {
   "cell_type": "markdown",
   "id": "a68c0de3",
   "metadata": {},
   "source": [
    "**for loop** - allow to iterate over a sequence - for example over elements in a list"
   ]
  },
  {
   "cell_type": "code",
   "execution_count": null,
   "id": "f1eb67bb",
   "metadata": {},
   "outputs": [],
   "source": [
    "# Allows to loop through a sequence and modify/print it\n",
    "# We saw simple examples of for loops while working with dictionaries and lists\n",
    "\n",
    "# Print a simple triangle\n",
    "for i in range(1,6):\n",
    "    print('*'*i)\n",
    "\n",
    "print(\"=\"*80)\n",
    "\n",
    "#=====================================================\n",
    "# As seen before print elements of the list -  modify all of them (add 3 to every element of the list)\n",
    "list1=[0,1,2,3,4,5]\n",
    "\n",
    "list2=[] # Initiate new list befor the loop\n",
    "# Loop over all elements of the list1, increment them by 3 and append to new list2\n",
    "for i in list1:\n",
    "    list2.append(i+3)\n",
    "print(f\"Old list: {list1} vs new list {list2}.\")\n",
    "\n",
    "# The same statement can be simplified as a list comprehension - much faster so recommended for large data but outcome is exactly the same\n",
    "list3=[i+3 for i in list1]\n",
    "print(f\"Old list: {list1} vs new list {list3}.\")\n"
   ]
  },
  {
   "cell_type": "markdown",
   "id": "d0ddfada",
   "metadata": {},
   "source": [
    "**while loop** - execute a statement as long as the condition is True"
   ]
  },
  {
   "cell_type": "code",
   "execution_count": null,
   "id": "e85f55b1",
   "metadata": {},
   "outputs": [],
   "source": [
    "i=7\n",
    "while i>0:\n",
    "    print(i)\n",
    "    i-=1 # This is a shortcut for i=i-1 that we saw before in the assignment operators"
   ]
  },
  {
   "cell_type": "code",
   "execution_count": null,
   "id": "94bf887b",
   "metadata": {},
   "outputs": [],
   "source": [
    "# We can break a loop under certain conditions\n",
    "i=7\n",
    "while i>0:\n",
    "    print(i)\n",
    "    i-=1 # This is a shortcut for i=i-1\n",
    "    if i==3:\n",
    "        break #the loop is stopped when the i=3"
   ]
  },
  {
   "cell_type": "markdown",
   "id": "0c815b44",
   "metadata": {},
   "source": [
    "**conditionals** - execute a statement if the condition is met.<br><br>\n",
    "Basic syntax: `if...: elif...: else:`<br><br>\n",
    "After if we place our first condition, after elif we place our second condition and finally after else we do not place anything (if other conditions were not met the else statement is executed)"
   ]
  },
  {
   "cell_type": "code",
   "execution_count": null,
   "id": "2c33351f",
   "metadata": {},
   "outputs": [],
   "source": [
    "# Use if elif else statements\n",
    "\n",
    "x = {\n",
    "    \"tremor\": \"mild\",\n",
    "    \"bradykinesia\": \"moderate\",\n",
    "    \"rigidity\": \"severe\"\n",
    "}\n",
    "\n",
    "# While writing Python code, pay attention to indentation\n",
    "\n",
    "for n, (k, v) in enumerate(x.items()):\n",
    "    if k == \"tremor\":  # Important to use == for comparison, not = which is assignment\n",
    "        print(f\"{k} is the {n} key of the dictionary and the severity is {v}.\")\n",
    "    elif k == \"bradykinesia\":\n",
    "        print(f\"{k} is the {n} key of the dictionary and the severity is {v}.\")\n",
    "    else:  # This else executes if we get to \"rigidity\"\n",
    "        print(\"It is neither tremor nor bradykinesia.\")\n"
   ]
  },
  {
   "cell_type": "markdown",
   "id": "c4d34f16",
   "metadata": {},
   "source": [
    "#### Indentations\n",
    "How you align the blocks of code is important. "
   ]
  },
  {
   "cell_type": "code",
   "execution_count": null,
   "id": "3bee4fe8",
   "metadata": {},
   "outputs": [],
   "source": [
    "for n,(k,v) in enumerate(x.items()): \n",
    "    if k==\"tremor\": # Important to use == sign for comparison, as oppose to = which is used for assignment\n",
    "        print(f\"{k} is the {n} key of the dictionairy and the severity is {v}.\")"
   ]
  },
  {
   "cell_type": "code",
   "execution_count": null,
   "id": "79b95b97",
   "metadata": {},
   "outputs": [],
   "source": [
    "for n,(k,v) in enumerate(x.items()): \n",
    "    if k==\"tremor\": # Important to use == sign for comparison, as oppose to = which is used for assignment\n",
    "    print(f\"{k} is the {n} key of the dictionairy and the severity is {v}.\")"
   ]
  },
  {
   "cell_type": "markdown",
   "id": "b7a219dc",
   "metadata": {},
   "source": [
    "Oh no! We got an error. This is because python expects an indented block of code after if, elif, else, for, while statements. In the simple loops it may seem unjustified but in the more complex nested loops and statements you will find it very important. It controls how blocks of code are executed. It is possible that the code will work but if the blocks of codes are not aligned under correct loops and statements, it will lead to unexpected results."
   ]
  },
  {
   "cell_type": "code",
   "execution_count": null,
   "id": "a51afe99",
   "metadata": {},
   "outputs": [],
   "source": [
    "for n,(k,v) in enumerate(x.items()): \n",
    "if k==\"tremor\": # Important to use == sign for comparison, as oppose to = which is used for assignment\n",
    "    print(f\"{k} is the {n} key of the dictionairy and the severity is {v}.\")"
   ]
  },
  {
   "cell_type": "code",
   "execution_count": null,
   "id": "d999f62b",
   "metadata": {},
   "outputs": [],
   "source": [
    "for n,(k,v) in enumerate(x.items()): \n",
    "    if k==\"tremor\":\n",
    "        print(\"\") \n",
    "print(f\"{k} is the {n} key of the dictionairy and the severity is {v}.\")"
   ]
  },
  {
   "cell_type": "markdown",
   "id": "1051f4c0",
   "metadata": {},
   "source": [
    "This worked, but the second print is not conditioned with k==\"tremor\""
   ]
  },
  {
   "cell_type": "markdown",
   "id": "0684e7d7",
   "metadata": {},
   "source": [
    "---\n",
    "### 6. Time to put the theory into practice\n",
    "---\n",
    "#### Fizz buzz exercise\n",
    "\n",
    "Write a code to play Fizzbuzz for numbers from 1 to 50.\n",
    "Print \"fizz\" for numbers divisible by three, \"buzz\" for numbers divisible by five, and \"fizzbuzz\" for numbers divisible by both three and five.\n",
    "\n",
    "**Expected output:**<br>\n",
    "3 fizz<br>\n",
    "5 buzz<br>\n",
    "6 fizz<br>\n",
    "9 fizz<br>\n",
    "10 buzz<br>\n",
    "12 fizz<br>\n",
    "15 fizzbuzz<br>\n",
    "18 fizz<br>\n",
    "20 buzz<br>\n",
    "21 fizz<br>\n",
    "24 fizz<br>\n",
    "25 buzz<br>\n",
    "27 fizz<br>\n",
    "30 fizzbuzz<br>\n",
    "33 fizz<br>\n",
    "35 buzz<br>\n",
    "36 fizz<br>\n",
    "39 fizz<br>\n",
    "40 buzz<br>\n",
    "42 fizz<br>\n",
    "45 fizzbuzz<br>\n",
    "48 fizz<br>\n",
    "50 buzz<br>\n",
    "\n",
    "Hint: use modulus operator - calculates the remainder of a division operation. For instance, 7 % 3 equals 1 because when 7 is divided by 3, the remainder is 1. 10 % 2 equals 0."
   ]
  },
  {
   "cell_type": "code",
   "execution_count": null,
   "id": "9c2c5022",
   "metadata": {},
   "outputs": [],
   "source": [
    "for i : # Specify the range you want to loop over\n",
    "    if : # Specify conditions for fizzbuzz\n",
    "        print(i, \"fizzbuzz\")\n",
    "    elif : # Specify conditions for buzz\n",
    "        print(i, \"buzz\")\n",
    "    elif : # Specify conditions for fizz\n",
    "        print(i, \"fizz\")"
   ]
  },
  {
   "cell_type": "markdown",
   "id": "70aee917",
   "metadata": {},
   "source": [
    "#### Triangle exercises"
   ]
  },
  {
   "cell_type": "markdown",
   "id": "d898ee74",
   "metadata": {},
   "source": [
    "Print a triangle with a base of 5, from * characters.\n",
    "\n",
    "*<br>\n",
    "**<br>\n",
    "***<br>\n",
    "****<br>\n",
    "*****<br>"
   ]
  },
  {
   "cell_type": "code",
   "execution_count": null,
   "id": "18c11452",
   "metadata": {},
   "outputs": [],
   "source": [
    "# Write your code here"
   ]
  },
  {
   "cell_type": "markdown",
   "id": "9c30a8df",
   "metadata": {},
   "source": [
    "Print a triangle with a top of 5, from * characters.\n",
    "\n",
    "*****<br>\n",
    "****<br>\n",
    "***<br>\n",
    "**<br>\n",
    "*"
   ]
  },
  {
   "cell_type": "code",
   "execution_count": null,
   "id": "33b1dcc5",
   "metadata": {},
   "outputs": [],
   "source": [
    "# Write your code here"
   ]
  },
  {
   "cell_type": "markdown",
   "id": "79e25659",
   "metadata": {},
   "source": [
    "Print a balanced triangle\n",
    "\n",
    "starts on the left side of the notebook\n",
    "\n",
    "<center>\n",
    "   *<br>\n",
    "  ***<br>\n",
    " *****<br>\n",
    "*******\n",
    "</center>"
   ]
  },
  {
   "cell_type": "code",
   "execution_count": null,
   "id": "338c4eb0",
   "metadata": {},
   "outputs": [],
   "source": [
    "# Write your code here"
   ]
  },
  {
   "cell_type": "markdown",
   "id": "de7b6f5a",
   "metadata": {},
   "source": [
    "##### Processing patient symptoms\n",
    "\n",
    "Tasks:\n",
    "\n",
    "1. Print all symptoms with their severity scores.\n",
    "\n",
    "2. Use a loop and conditional statements to categorize symptoms as:\n",
    "\n",
    " - \"Mild\" if severity is 1 or 2\n",
    " - \"Moderate\" if severity is 3 or 4\n",
    " - \"Severe\" if severity is 5 or more\n",
    "\n",
    "3. Count how many symptoms are in each category and print the counts at the end.\n"
   ]
  },
  {
   "cell_type": "code",
   "execution_count": null,
   "id": "374fd87d",
   "metadata": {},
   "outputs": [],
   "source": [
    "# Dictionary of symptoms\n",
    "patient_symptoms = {\n",
    "    \"tremor\": 3,\n",
    "    \"bradykinesia\": 4,\n",
    "    \"rigidity\": 2,\n",
    "    \"postural instability\": 1,\n",
    "    \"depression\": 5\n",
    "}\n",
    "\n",
    "# Write your code here\n"
   ]
  },
  {
   "cell_type": "markdown",
   "id": "0c274d78",
   "metadata": {},
   "source": [
    "---\n",
    "### 7. Navigating directories and processing text files\n",
    "---"
   ]
  },
  {
   "cell_type": "code",
   "execution_count": null,
   "id": "85d69fa5",
   "metadata": {},
   "outputs": [],
   "source": [
    "# os module allows you to navigate through the file system\n",
    "import os \n",
    "\n",
    "# Where are you in the file system?\n",
    "# Get current working directory\n",
    "print(\"Start point\")\n",
    "print(os.getcwd())\n",
    "# Change to parent directory\n",
    "os.chdir(\"../\") # This takes you to the parent directory, one can use both relative and absolute paths\n",
    "# Check where you are after the change\n",
    "print(\"Changed directory\")\n",
    "print(os.getcwd())\n",
    "# Change again - use the path were you store the course files on your computer - please not you need to change the path to the path on your computer\n",
    "path=\"/Users/k.zoltowska/Documents/teaching_module/intro_python_all\"\n",
    "os.chdir(path)\n",
    "if os.path.isdir(\"results\")==False: # Check if the directory exists, if not create it\n",
    "    os.mkdir(\"results\")\n",
    "os.chdir(\"data\")"
   ]
  },
  {
   "cell_type": "markdown",
   "id": "da734a0b",
   "metadata": {},
   "source": [
    "#### Listing content of directory in python and reading files"
   ]
  },
  {
   "cell_type": "code",
   "execution_count": null,
   "id": "2d77ed41",
   "metadata": {},
   "outputs": [],
   "source": [
    "# Get list of files in the directory\n",
    "print(os.listdir(path+\"/data\"))"
   ]
  },
  {
   "cell_type": "markdown",
   "id": "dc13ec65",
   "metadata": {},
   "source": [
    "### For this example we will be working wih .vcf file format - Variant Call Format, which is commonly used in genomics\n",
    "<img src=\"./vcf_format.png\" width=\"800\" height=\"400\">\n"
   ]
  },
  {
   "cell_type": "markdown",
   "id": "c33de74f",
   "metadata": {},
   "source": [
    "In order to read a file we can just use `open()` function. "
   ]
  },
  {
   "cell_type": "markdown",
   "id": "2c7ee913",
   "metadata": {},
   "source": [
    "file = open(\"filename.txt\", \"mode\")\n",
    "\n",
    "\"filename.txt\" – the name (and optionally the path) of the file.\n",
    "\n",
    "\"mode\" – how you want to open the file (read, write, etc.).\n",
    "\n",
    "| Mode  | Name           | Description                                                                 |\n",
    "|-------|----------------|-----------------------------------------------------------------------------|\n",
    "| `r`   | Read           | Opens file for reading (default). Raises error if file doesn't exist.       |\n",
    "| `w`   | Write          | Opens file for writing. Overwrites existing file or creates a new one.      |\n",
    "| `a`   | Append         | Opens file for appending. Creates file if it doesn't exist.                 |\n",
    "| `r+`  | Read and Write | Opens file for both reading and writing. File must already exist.           |\n"
   ]
  },
  {
   "cell_type": "code",
   "execution_count": null,
   "id": "afd7287e",
   "metadata": {},
   "outputs": [],
   "source": [
    "# By default read function will read the whole file, but we can specify the number of characters we want to read, 200 in this example\n",
    "with open(\"clinvar_5000.vcf\") as file:\n",
    "  print(file.read(200))"
   ]
  },
  {
   "cell_type": "code",
   "execution_count": null,
   "id": "3dc70d03",
   "metadata": {},
   "outputs": [],
   "source": [
    "# We can also read a single line\n",
    "with open(\"clinvar_5000.vcf\") as file:\n",
    "  print(file.readline()) # Reads a line of the file"
   ]
  },
  {
   "cell_type": "code",
   "execution_count": null,
   "id": "05411ff6",
   "metadata": {},
   "outputs": [],
   "source": [
    "# We can also iterate through the lines of a file\n",
    "n=50\n",
    "# Start counter to read only 50 lines of the file (it is a large file)\n",
    "with open(\"clinvar_5000.vcf\") as file:\n",
    "    for i, line in enumerate(file):\n",
    "        if i >= n:\n",
    "            break\n",
    "        print(line.strip()) #strip removes leading and trailing white spaces\n",
    "\n",
    "# First are just header lines starting with ## - with information about the file\n",
    "# Then, there is a line with column headers #CHROM\tPOS\tID\tREF\tALT\tQUAL\tFILTER\tINFO\n",
    "# Then, there are lines with actual genetic variants"
   ]
  },
  {
   "cell_type": "markdown",
   "id": "6b915d0c",
   "metadata": {},
   "source": [
    "---\n",
    "#### Task - read the .vcf file, extract:\n",
    "\n",
    "```#CHROM\tPOS\tID\tREF\tALT```<br>\n",
    "```1\t66926\t3385321\tAG\tA```<br>\n",
    "```1\t69134\t2205837\tA\tG```<br>\n",
    "```1\t69308\t3925305\tA\tG```<br>\n",
    "```1\t69314\t3205580\tT\tG```<br>\n",
    "...\n",
    "\n",
    "and save to a new file\n",
    "\n"
   ]
  },
  {
   "cell_type": "code",
   "execution_count": null,
   "id": "be509331",
   "metadata": {},
   "outputs": [],
   "source": [
    "# Hints -  look at the file - we need to extract rows that do not start with ## \n",
    "# From the remaining rows - we need to split the lines on tab space and extract first 5 elements of the list\n",
    "# How? using loops and conditionals\n",
    "\n",
    "# It is a large file so test only on part of the file first\n",
    "with open(\"clinvar_5000.vcf\", \"r\") as file_r:\n",
    "    count = 0\n",
    "    for line in file_r:\n",
    "        if line.startswith(\"##\"):\n",
    "            continue  # skip header lines\n",
    "        if count >= 50:\n",
    "            break     # stop after 50 lines\n",
    "        list_line = line.strip().split(\"\\t\")[0:5] # This line of code can be decomposed into the following steps: strip()-removes leading and trailing white spaces, split() - splits the line on tabs and returns a list; [0:5] extracts first elements of the list\n",
    "        print(list_line)\n",
    "        count += 1\n",
    "\n",
    "# The output below shows that we are correctly extracting the lines we want from the file\n",
    "# Printing is a great strategy for coding and debugging - use it when you can!\n"
   ]
  },
  {
   "cell_type": "markdown",
   "id": "4bd3f7e2",
   "metadata": {},
   "source": [
    "Now we need to write the output to a file. By default `open()` uses `r` mode which stands for read. But we can use `open()` also to write to a file, but we need to use it in `w` (write) mode.\n",
    "Note that `w` will overwrite any existing file content. If you would like to append to the end of the file, use `a` (append) mode."
   ]
  },
  {
   "cell_type": "code",
   "execution_count": null,
   "id": "2c337fbf",
   "metadata": {},
   "outputs": [],
   "source": [
    "# Next step - we need to write it to a file\n",
    "# Most of the code below is exactly the same as before - we just need to add two lines that allow us to write to a file\n",
    "with open(\"clinvar_5000.vcf\", \"r\") as file_r:\n",
    "    with open(\"../results/clinvar_modified.vcf\", \"w\") as file_w: # Creates file handle to write to a file\n",
    "        count = 0\n",
    "        for line in file_r:\n",
    "            if line.startswith(\"##\"):\n",
    "                continue \n",
    "            if count >= 50:\n",
    "                break \n",
    "            list_line = line.strip().split(\"\\t\")[0:5]\n",
    "            #print(list_line) no longer need for print so we can comment it out\n",
    "            file_w.write(\"\\t\".join(list_line) + \"\\n\") # In this line you join the list elements with tab seperator and add new line at the end\n",
    "            count += 1"
   ]
  },
  {
   "cell_type": "markdown",
   "id": "72542b5c",
   "metadata": {},
   "source": [
    "---\n",
    "### Time to put the theory into practice\n",
    "---\n",
    "\n",
    "#### Processing .sam file\n",
    "\n",
    "Given a sam file (see format below), process the file to skip the header rows and extract only rows where MAPQ is larger than 30. Save the results into a new file.\n",
    "\n",
    "<img src=\"./sam_file.png\" width=\"800\" height=\"400\">"
   ]
  },
  {
   "cell_type": "code",
   "execution_count": null,
   "id": "4226bc05",
   "metadata": {},
   "outputs": [],
   "source": [
    "with open(\"example_sam.sam\", \"r\") as file_r: # Creates handle to read file line by line\n",
    "    with open(\"\", \"w\") as file_w: # Creates file handle to write to a file - save modified file in the results folder\n",
    "        for : # Loop over lines in the sam file\n",
    "            if  : # Include condition to skip the rows that start with @\n",
    "                continue \n",
    "            mapq =  # Extract mapping quality from the line\n",
    "            if : # Check the condition if MAPQ>30 \n",
    "                print(line.strip()) # Check whether we are extracting correct lines\n",
    "                 # Write the line to a file"
   ]
  },
  {
   "cell_type": "markdown",
   "id": "e6454404",
   "metadata": {},
   "source": [
    "---\n",
    "### 8. Data Science with Pandas\n",
    "---"
   ]
  },
  {
   "cell_type": "markdown",
   "id": "8caa7a99",
   "metadata": {},
   "source": [
    "Pandas is an open source library providing high-performance, easy-to-use data structures and data analysis tools for the Python programming language.\n",
    "https://pandas.pydata.org/docs/index.html\n",
    "\n",
    "Pandas come with a number of functionalities and with a great documentation. https://pandas.pydata.org/docs/ Here, we will cover only the basics. "
   ]
  },
  {
   "cell_type": "code",
   "execution_count": null,
   "id": "d0ac50e0",
   "metadata": {},
   "outputs": [],
   "source": [
    "# import pandas \n",
    "import pandas as pd # pd is used as a convension"
   ]
  },
  {
   "cell_type": "markdown",
   "id": "7bc74fd8",
   "metadata": {},
   "source": [
    "##### Simple methods in pandas\n",
    "\n",
    "| Function / Attribute     | Description                                                                 | Example                            |\n",
    "|--------------------------|-----------------------------------------------------------------------------|------------------------------------|\n",
    "| `pd.read_csv()`          | Reads a CSV file into a DataFrame                                          | `pd.read_csv(\"patients.csv\")`      |\n",
    "| `.shape`                 | Returns the number of rows and columns as a tuple                          | `df.shape`                         |\n",
    "| `.head()`                | Returns the first 5 rows (can specify number)                              | `df.head()` or `df.head(10)`       |\n",
    "| `.tail()`                | Returns the last 5 rows (can specify number)                               | `df.tail()`                        |\n",
    "| `.describe()`            | Generates summary statistics for numeric columns                           | `df.describe()`                    |\n",
    "| `.select_dtypes()`       | Selects columns by data type (e.g., number, object)                        | `df.select_dtypes(include=\"number\")` |\n",
    "| `.columns`               | Returns the list of column names                                           | `df.columns`                       |\n",
    "| `.index`                 | Returns the index (row labels)                                             | `df.index`                         |\n",
    "| `.loc[]`                 | Label-based selection (rows/columns by name)                               | `df.loc[0, \"age\"]` or `df.loc[0]`  |\n",
    "| `.iloc[]`                | Position-based selection (rows/columns by integer index)                   | `df.iloc[0, 1]` or `df.iloc[0]`    |\n",
    "| `.to_csv()`              | Writes the DataFrame to a CSV file                                         | `df.to_csv(\"output.csv\", index=False)` |\n"
   ]
  },
  {
   "cell_type": "markdown",
   "id": "d9f22fe1",
   "metadata": {},
   "source": [
    "#### Read csv file as pandas dataframe\n",
    "\n",
    "We can read a file, using `pandas.read_csv()` function. The required argument is the file path, but you can also specify much more, eg. sep - character used as a delimiter, index_col - which column to use as row names\n",
    "https://pandas.pydata.org/docs/reference/api/pandas.read_csv.html\n",
    "\n",
    "When working with new functions it is always good practice to check the documentation."
   ]
  },
  {
   "cell_type": "code",
   "execution_count": null,
   "id": "3ea7e603",
   "metadata": {},
   "outputs": [],
   "source": [
    "data=pd.read_csv(\"./Parkinson_disease.txt\") \n",
    "data"
   ]
  },
  {
   "cell_type": "markdown",
   "id": "9aece943",
   "metadata": {},
   "source": [
    "Oh no! It does not display as a table. But what we see is: Jitter(%)\\tMDVP:Jitter(Abs)\\tMDVP:RAP\\t\n",
    "There are tabs not commas (.tsv vs .csv)"
   ]
  },
  {
   "cell_type": "code",
   "execution_count": null,
   "id": "e4f06822",
   "metadata": {},
   "outputs": [],
   "source": [
    "data=pd.read_csv(\"./Parkinson_disease.txt\", sep=\"\\t\", index_col=0)\n",
    "data"
   ]
  },
  {
   "cell_type": "markdown",
   "id": "81d531ac",
   "metadata": {},
   "source": [
    "#### Check what is in the rows and columns"
   ]
  },
  {
   "cell_type": "code",
   "execution_count": null,
   "id": "84629d9d",
   "metadata": {},
   "outputs": [],
   "source": [
    "# Exploring the dataframe\n",
    "\n",
    "# Get column names\n",
    "print(\"Column names\")\n",
    "print(data.columns)\n",
    "\n",
    "print(\"=\"*80)\n",
    "\n",
    "# Get row names\n",
    "print(\"Row names\")\n",
    "print(data.index)"
   ]
  },
  {
   "cell_type": "markdown",
   "id": "3e47ed1e",
   "metadata": {},
   "source": [
    "You can see that there are no meaningful rownames. Let's fix that."
   ]
  },
  {
   "cell_type": "markdown",
   "id": "251aaae5",
   "metadata": {},
   "source": [
    "##### What is in the columns?\n",
    "\n",
    "name - ASCII subject name and recording number<br>\n",
    "MDVP:Fo(Hz) - Average vocal fundamental frequency<br>\n",
    "MDVP:Fhi(Hz) - Maximum vocal fundamental frequency<br>\n",
    "MDVP:Flo(Hz) - Minimum vocal fundamental frequency<br>\n",
    "MDVP:Jitter(%),MDVP:Jitter(Abs),MDVP:RAP,MDVP:PPQ,Jitter:DDP - Several<br>\n",
    "measures of variation in fundamental frequency<br>\n",
    "MDVP:Shimmer,MDVP:Shimmer(dB),Shimmer:APQ3,Shimmer:APQ5,MDVP:APQ,Shimmer:DDA - Several measures of variation in amplitude<br>\n",
    "NHR,HNR - Two measures of ratio of noise to tonal components in the voice<br>\n",
    "status - Health status of the subject PD or CTRL<br>\n",
    "RPDE,D2 - Two nonlinear dynamical complexity measures<br>\n",
    "DFA - Signal fractal scaling exponent<br>\n",
    "spread1,spread2,PPE - Three nonlinear measures of fundamental frequency variation<br>\n",
    "gender - Male or Female<br>\n",
    "\n",
    "The dataset was adapted from:\n",
    "\n",
    "*Exploiting Nonlinear Recurrence and Fractal Scaling Properties for Voice Disorder Detection',\n",
    "Little MA, McSharry PE, Roberts SJ, Costello DAE, Moroz IM.\n",
    "BioMedical Engineering OnLine 2007, 6:23 (26 June 2007)*\n",
    "\n",
    "https://www.kaggle.com/datasets/debasisdotcom/parkinson-disease-detection"
   ]
  },
  {
   "cell_type": "markdown",
   "id": "f531b8a9",
   "metadata": {},
   "source": [
    "#### Set index to name"
   ]
  },
  {
   "cell_type": "code",
   "execution_count": null,
   "id": "dcabfc28",
   "metadata": {},
   "outputs": [],
   "source": [
    "# Lets set name as a row names\n",
    "data.set_index(\"name\", inplace=True) # By using inplace we are modifying the existing dataframe\n",
    "\n",
    "print(\"Row names\")\n",
    "print(data.index)"
   ]
  },
  {
   "cell_type": "markdown",
   "id": "835dbff7",
   "metadata": {},
   "source": [
    "#### Get basic summary statistics\n",
    "`describe()` function\n",
    "- mean\n",
    "- median\n",
    "- std\n",
    "- 25%, 75% quartiles\n",
    "- min\n",
    "- max\n",
    "- number of unique values in categorical columns"
   ]
  },
  {
   "cell_type": "code",
   "execution_count": null,
   "id": "746006df",
   "metadata": {},
   "outputs": [],
   "source": [
    "# Get basic summary statistics from the dataframe\n",
    "data.describe() # For all numeric columns we can view basic statistics - number of values, mean, standard deviation, min, max, quantiles\n",
    "\n",
    "# What we can notice that some values must be missing as not every column has 195 values"
   ]
  },
  {
   "cell_type": "markdown",
   "id": "ab98a09d",
   "metadata": {},
   "source": [
    "We can see that after running describe we see only numeric columns. Can we check also categorical or strings?\n",
    "What data types are in pandas?\n",
    "\n",
    "| pandas Data Type | Description                           | Python Equivalent     | Example Values                      |\n",
    "|------------------|---------------------------------------|------------------------|-------------------------------------|\n",
    "| `int64`          | Integer numbers                       | `int`                 | 0, 1, -20, 103                      |\n",
    "| `float64`        | Decimal (floating-point) numbers      | `float`               | 3.14, -2.5, 0.0                     |\n",
    "| `object`         | Text or mixed types (usually strings) | `str`                 | \"Male\", \"Tremor\", \"Patient A\"      |\n",
    "| `bool`           | Boolean values                        | `bool`                | True, False                        |\n",
    "| `datetime64`     | Date and time values                  | `datetime.datetime`   | 2023-06-01, 2025-10-15             |\n",
    "| `category`       | Categorical data                      | pandas `Categorical`  | \"Mild\", \"Moderate\", \"Severe\"       |\n"
   ]
  },
  {
   "cell_type": "code",
   "execution_count": null,
   "id": "67865116",
   "metadata": {},
   "outputs": [],
   "source": [
    "# Let's check what types of data we have in the dataframe\n",
    "data.dtypes"
   ]
  },
  {
   "cell_type": "markdown",
   "id": "b768959e",
   "metadata": {},
   "source": [
    "With `select_dtypes()` we can select only categorical columns"
   ]
  },
  {
   "cell_type": "code",
   "execution_count": null,
   "id": "5c2feebe",
   "metadata": {},
   "outputs": [],
   "source": [
    "# Floats were covered by describe, but can we check the object type columns\n",
    "# Yes we can, but we need to select the categorical columns (type: object)\n",
    "data.select_dtypes(object).describe()"
   ]
  },
  {
   "cell_type": "markdown",
   "id": "2d5a33a2",
   "metadata": {},
   "source": [
    "#### Handling missing data\n",
    "Missing values present a challenge in the data science, but are a reality.\n",
    "How can we handle missing data?\n",
    "- Drop rows/columns with missing values\n",
    "- Impute  - more about it later\n",
    "\n",
    "In pandas we can use `dropna()` to drop rows or columns with missing values. Take a look at the documentation: https://pandas.pydata.org/docs/reference/api/pandas.DataFrame.dropna.html\n",
    "\n",
    "What to axis= and how= arguments control?"
   ]
  },
  {
   "cell_type": "code",
   "execution_count": null,
   "id": "99d1bcc0",
   "metadata": {},
   "outputs": [],
   "source": [
    "# For today lets just drop all the rows that contain missing values - not always the best idea, as we might be losing lots of information\n",
    "print(\"rows,columns\")\n",
    "print(data.shape) # shape allows us to see the number of rows and columns in the dataframe - returns a tupple (rows, cols)\n",
    "data.dropna(inplace=True)\n",
    "print(\"rows,columns\")\n",
    "print(data.shape)"
   ]
  },
  {
   "cell_type": "markdown",
   "id": "5990e4a2",
   "metadata": {},
   "source": [
    "You might have noticed that sometimes we use () and sometimes not. `data.dropna()` and `data.shape` . <br>\n",
    "In Python, methods are functions associated with a specific object or class and are utilized to perform particular operations. For methods we use (). dropna() is a method. <br>\n",
    "Attributes are data related to an object or class and can be used to store information or state. To get attributes, we do not use (). shape is an attribute.\n"
   ]
  },
  {
   "cell_type": "markdown",
   "id": "a3401056",
   "metadata": {},
   "source": [
    "### Exploring the dataframe\n",
    "- extracting columns\n",
    "- simple plotting\n",
    "\n",
    "The best way to access rows and columns in pandas is to use `loc()` and `iloc()`. The difference between those two is that loc uses label-based indexing and iloc uses position-based indexing.\n",
    "\n",
    "We can also view first and last rows of the dataframe with `head()` or `tail()`.\n",
    "\n"
   ]
  },
  {
   "cell_type": "code",
   "execution_count": null,
   "id": "b7a28b33",
   "metadata": {},
   "outputs": [],
   "source": [
    "# Take a look at the names of the columns\n",
    "data.columns"
   ]
  },
  {
   "cell_type": "code",
   "execution_count": null,
   "id": "1c9cec0c",
   "metadata": {},
   "outputs": [],
   "source": [
    "# Accesing parts of the dataframe - using column names\n",
    "# The : in the brackets indicates that we are selecting all rows.\n",
    "data.loc[:,['MDVP:Fhi(Hz)',\t'MDVP:Flo(Hz)']]"
   ]
  },
  {
   "cell_type": "code",
   "execution_count": null,
   "id": "6e9a616d",
   "metadata": {},
   "outputs": [],
   "source": [
    "# We can also select specific rows and columns based on their labels\n",
    "data.loc[[\"phon_R01_S01_2\", \"phon_R01_S50_5\"],['MDVP:Fhi(Hz)','MDVP:Flo(Hz)']]"
   ]
  },
  {
   "cell_type": "code",
   "execution_count": null,
   "id": "d3f87d3b",
   "metadata": {},
   "outputs": [],
   "source": [
    "# We can also extract single columns\n",
    "data['gender']"
   ]
  },
  {
   "cell_type": "code",
   "execution_count": null,
   "id": "b7e82df6",
   "metadata": {},
   "outputs": [],
   "source": [
    "# We can also extract single columns\n",
    "data.gender"
   ]
  },
  {
   "cell_type": "code",
   "execution_count": null,
   "id": "e8182f68",
   "metadata": {},
   "outputs": [],
   "source": [
    "# We can also extract single columns\n",
    "data[[\"gender\"]] # double square brackets to keep it as a dataframe"
   ]
  },
  {
   "cell_type": "code",
   "execution_count": null,
   "id": "80cc6bec",
   "metadata": {},
   "outputs": [],
   "source": [
    "# Accesing parts of the dataframe - using column positions\n",
    "data.iloc[[1,3,5],[2,3]]"
   ]
  },
  {
   "cell_type": "code",
   "execution_count": null,
   "id": "f01f4bf6",
   "metadata": {},
   "outputs": [],
   "source": [
    "# Lets view 3 first rows of the data\n",
    "data.head(3)"
   ]
  },
  {
   "cell_type": "code",
   "execution_count": null,
   "id": "2919b6bc",
   "metadata": {},
   "outputs": [],
   "source": [
    "# Lets view 3 last rows of the data\n",
    "data.tail(3)"
   ]
  },
  {
   "cell_type": "markdown",
   "id": "9ad2020c",
   "metadata": {},
   "source": [
    "#### Basic plotting functionality in pandas"
   ]
  },
  {
   "cell_type": "markdown",
   "id": "59af1d73",
   "metadata": {},
   "source": [
    "| Function          | Library | Description                                         | Example                                              |\n",
    "| ----------------- | ------- | --------------------------------------------------- | ---------------------------------------------------- |\n",
    "| `.plot()`         | pandas  | General-purpose plot (line by default)              | `df.plot()`                                          |\n",
    "| `.plot.line()`    | pandas  | Line plot                                           | `df.plot.line(y=\"UPDRS_score\")`                      |\n",
    "| `.plot.bar()`     | pandas  | Vertical bar chart                                  | `df.plot.bar(x=\"patient\", y=\"score\")`                |\n",
    "| `.plot.barh()`    | pandas  | Horizontal bar chart                                | `df.plot.barh(x=\"test\", y=\"value\")`                  |\n",
    "| `.plot.hist()`    | pandas  | Histogram                                           | `df[\"age\"].plot.hist(bins=10)`                       |\n",
    "| `.plot.box()`     | pandas  | Box plot for distributions and outliers             | `df[[\"UPDRS1\", \"UPDRS2\"]].plot.box()`                |\n",
    "| `.plot.kde()`     | pandas  | Kernel density estimate (smooth histogram)          | `df[\"age\"].plot.kde()`                               |\n",
    "| `.plot.area()`    | pandas  | Area plot                                           | `df.plot.area()`                                     |\n",
    "| `.plot.scatter()` | pandas  | 2D scatter plot                                     | `df.plot.scatter(x=\"age\", y=\"UPDRS\")`                |\n",
    "| `.plot.pie()`     | pandas  | Pie chart (for single series or value counts)       | `df[\"diagnosis\"].value_counts().plot.pie()`          |\n",
    "\n",
    "\n",
    "Today we just introduce basic plotting options. More about plotting in future modules."
   ]
  },
  {
   "cell_type": "markdown",
   "id": "c0487a13",
   "metadata": {},
   "source": [
    "##### Simple scatterplot between two variables"
   ]
  },
  {
   "cell_type": "code",
   "execution_count": null,
   "id": "8e3866e4",
   "metadata": {},
   "outputs": [],
   "source": [
    "# Plot simple scatterplot between different variables\n",
    "data.plot(x=\"MDVP:Fo(Hz)\", y=\"MDVP:Fhi(Hz)\",kind=\"scatter\"); # The semicolon at the end is a \"trick\" to avoid showing processing text, so plot looks nicer"
   ]
  },
  {
   "cell_type": "markdown",
   "id": "3b501454",
   "metadata": {},
   "source": [
    "##### Histograms to show the destribution of the data"
   ]
  },
  {
   "cell_type": "code",
   "execution_count": null,
   "id": "e660efd6",
   "metadata": {},
   "outputs": [],
   "source": [
    "# Plot histograms to look at the distribution of the data\n",
    "# It shows numeric columns\n",
    "data.hist(grid=False, bins=20,figsize=(14,10), layout=(4,6)); # With layout we can control number of rows and columns, with grid whether grids are shown on the plot or not"
   ]
  },
  {
   "cell_type": "markdown",
   "id": "1284201a",
   "metadata": {},
   "source": [
    "What if we would like to know value distributions for the categorical columns?\n",
    "- We can convert them into numbers.\n",
    "- We can use `.value_counts()` function to count occurance of different values \n",
    "- Use `countplot()` from seaborn library"
   ]
  },
  {
   "cell_type": "markdown",
   "id": "b0e9a575",
   "metadata": {},
   "source": [
    "##### Using `.value_counts()` to check the destribution of categorical columns"
   ]
  },
  {
   "cell_type": "code",
   "execution_count": null,
   "id": "0b2d1729",
   "metadata": {},
   "outputs": [],
   "source": [
    "# Checking the number in each category for categorical columns\n",
    "for col in data.select_dtypes(object).columns: # get column names for the categorical columns - one can select columns by data type\n",
    "    print(data.value_counts(col)) # count values in the categorical columns"
   ]
  },
  {
   "cell_type": "markdown",
   "id": "f9acaab6",
   "metadata": {},
   "source": [
    "##### Using `countplot()` from seaborn library\n",
    "\n",
    "Seaborn is a library for data visualisation based on matplotlib. It is a very popular library for data science.\n",
    "https://seaborn.pydata.org/tutorial.html "
   ]
  },
  {
   "cell_type": "code",
   "execution_count": null,
   "id": "8bddc453",
   "metadata": {},
   "outputs": [],
   "source": [
    "# run %pip install seaborn if the library is not installed\n",
    "import seaborn as sns\n",
    "\n",
    "# With seaborn we can very easily plot the destribution of the categorical data\n",
    "sns.countplot(data, x=\"status\", hue=\"gender\");"
   ]
  },
  {
   "cell_type": "markdown",
   "id": "203a82ea",
   "metadata": {},
   "source": [
    "We can also use integrated seaborn and pandas functionality to look at the correlations between different variables"
   ]
  },
  {
   "cell_type": "markdown",
   "id": "0f4d4c59",
   "metadata": {},
   "source": [
    "`pairplot()` function will plot destributions and relationships between all numeric variables"
   ]
  },
  {
   "cell_type": "code",
   "execution_count": null,
   "id": "90e61e66",
   "metadata": {},
   "outputs": [],
   "source": [
    "# Note that due to the size of the dataset it takes ~10-30 sec to run this\n",
    "\n",
    "sns.pairplot(data, hue=\"status\");"
   ]
  },
  {
   "cell_type": "markdown",
   "id": "ad86c487",
   "metadata": {},
   "source": [
    "##### Correlation heatmap\n",
    "\n",
    "In order to plot correlation heatmap first we need to calculate correlations between different columns and then plot a heatmap.\n",
    "\n",
    "Pandas has a built in function `.corr()` to calculate correlation coefficients.\n",
    "\n",
    "Then we can use `heatmap()` from seaborn to plot it as a heatmap.\n"
   ]
  },
  {
   "cell_type": "code",
   "execution_count": null,
   "id": "d273db47",
   "metadata": {},
   "outputs": [],
   "source": [
    "# Let's first calculate correlations\n",
    "data.corr()"
   ]
  },
  {
   "cell_type": "markdown",
   "id": "2be22519",
   "metadata": {},
   "source": [
    "---\n",
    "Oh no! We got an error. But python tells us what is the problem.<br>\n",
    "ValueError: could not convert string to float: 'PD'\n",
    "\n",
    "Luckily there is a solution: https://pandas.pydata.org/docs/reference/api/pandas.DataFrame.corr.html\n",
    "\n",
    "Let's check the documentation for the corr() function. From the documentation:<br> \n",
    "DataFrame.corr(method='pearson', min_periods=1, numeric_only=False)\n",
    "\n",
    "We can change the default numeric_only from False to True and try again."
   ]
  },
  {
   "cell_type": "code",
   "execution_count": null,
   "id": "20438b36",
   "metadata": {},
   "outputs": [],
   "source": [
    "data.corr(numeric_only=True)"
   ]
  },
  {
   "cell_type": "markdown",
   "id": "1899164f",
   "metadata": {},
   "source": [
    "Now lets wrap inside a heatmap function"
   ]
  },
  {
   "cell_type": "code",
   "execution_count": null,
   "id": "81b393cf",
   "metadata": {},
   "outputs": [],
   "source": [
    "sns.heatmap(data.corr(numeric_only=True)); \n",
    "\n",
    "# Seaborn allows us to customise the plots. Always check documentation. It also comes with examples, which can be very handy.\n",
    "# https://seaborn.pydata.org/generated/seaborn.heatmap.html"
   ]
  },
  {
   "cell_type": "markdown",
   "id": "45cd5586",
   "metadata": {},
   "source": [
    "By default pearson coefficient is used in the corr() function, but we can choose from:\n",
    " - pearson : standard correlation coefficient\n",
    " - kendall : Kendall Tau correlation coefficient\n",
    " - spearman : Spearman rank correlation\n",
    "\n",
    "| Method     | Full Name                     | Type of Relationship Measured         | Handles Ranks? | Handles Nonlinear? | Use Case Example                                           |\n",
    "|------------|-------------------------------|----------------------------------------|----------------|---------------------|-------------------------------------------------------------|\n",
    "| `pearson`  | Pearson correlation coefficient| Measures **linear** relationships      | ❌ No           | ❌ No                | Compare age vs. UPDRS score assuming linearity             |\n",
    "| `kendall`  | Kendall Tau correlation       | Measures **monotonic** relationships   | ✅ Yes          | ✅ Yes (monotonic)   | Rank-based correlation between symptom severity ratings     |\n",
    "| `spearman` | Spearman rank correlation     | Measures **monotonic** relationships   | ✅ Yes          | ✅ Yes (monotonic)   | Association between patient rank in tremor vs rigidity     |\n",
    "\n",
    "\n",
    "When to use which?\n",
    "Pearson for linear relationships between continuous, normally distributed variables. \n",
    "Spearman for monotonic relationships, non-normally distributed data, or ordinal variables, as it's robust to outliers. \n",
    "Kendall for monotonic relationships, especially with small datasets. It can be more robust than Spearman in those situations.\n",
    "\n",
    "Was the choice of pearson coefficient best for this data?\n",
    "\n",
    "More about that in the next modules."
   ]
  },
  {
   "cell_type": "markdown",
   "id": "dfcf46e5",
   "metadata": {},
   "source": [
    "### Subseting and sorting\n",
    "\n",
    "We can subset/filter the dataframe based on a condition. This can be done with Boolean indexing.\n",
    "In simple terms we create a sequence of booleans telling us whether to keep a row or column or not.\n",
    "Let's see on an example."
   ]
  },
  {
   "cell_type": "markdown",
   "id": "2c130b95",
   "metadata": {},
   "source": [
    "We want to keep only records where gender column has a value \"Female\".\n"
   ]
  },
  {
   "cell_type": "code",
   "execution_count": null,
   "id": "2b2de802",
   "metadata": {},
   "outputs": [],
   "source": [
    "# This code creates a boolean sequence True when stress level is Low and False when there is another value. \n",
    "data.gender==\"Female\"\n",
    "# We can use this index for filtering."
   ]
  },
  {
   "cell_type": "markdown",
   "id": "8743ff6f",
   "metadata": {},
   "source": [
    "Let's now apply this to filter the dataframe"
   ]
  },
  {
   "cell_type": "code",
   "execution_count": null,
   "id": "e54dac17",
   "metadata": {},
   "outputs": [],
   "source": [
    "# Filtering the data frame to include only female participants\n",
    "females=data.loc[data.gender==\"Female\",:]\n",
    "females"
   ]
  },
  {
   "cell_type": "markdown",
   "id": "79dbd5a8",
   "metadata": {},
   "source": [
    "We can also sort the dataframe rows based on values in a column using `sort_values()` pandas function."
   ]
  },
  {
   "cell_type": "code",
   "execution_count": null,
   "id": "98e088be",
   "metadata": {},
   "outputs": [],
   "source": [
    "# Sorting the dataframe\n",
    "data.sort_values(by=\"MDVP:Fo(Hz)\", ascending=True) # We sort the dataframe on the MDVP:Fo(Hz)column starting from low to high values"
   ]
  },
  {
   "cell_type": "markdown",
   "id": "889a21f8",
   "metadata": {},
   "source": [
    "#### Saving the processed dataframe to a .tsv file\n",
    "\n",
    "Again pandas brings in a very simple solution `to_csv()`. In order to save as a tsv (tab as delimiter) we need to change the seperator value to \"\\t\"."
   ]
  },
  {
   "cell_type": "code",
   "execution_count": null,
   "id": "9ba82318",
   "metadata": {},
   "outputs": [],
   "source": [
    "data.to_csv(\"../results/Parkinson_disease_processed.tsv\", sep=\"\\t\")"
   ]
  },
  {
   "cell_type": "markdown",
   "id": "ed123782",
   "metadata": {},
   "source": [
    "---\n",
    "### Pandas exercises\n",
    "---"
   ]
  },
  {
   "cell_type": "markdown",
   "id": "8e527138",
   "metadata": {},
   "source": [
    "#### Task - explore another Parkinson's disease dataset\n",
    "\n",
    "parkinsons_disease_data.csv\n",
    "\n",
    "The dataset was obtained from: https://www.kaggle.com/datasets/rabieelkharoua/parkinsons-disease-dataset-analysis"
   ]
  },
  {
   "cell_type": "code",
   "execution_count": null,
   "id": "2ea3131a",
   "metadata": {},
   "outputs": [],
   "source": [
    "# import dataframe from csv file"
   ]
  },
  {
   "cell_type": "code",
   "execution_count": null,
   "id": "6f83a66a",
   "metadata": {},
   "outputs": [],
   "source": [
    "# How many rows and columns are in the dataframe?"
   ]
  },
  {
   "cell_type": "code",
   "execution_count": null,
   "id": "55d0359e",
   "metadata": {},
   "outputs": [],
   "source": [
    "# Are there any missing values? Generate summary statistics\n",
    "\n",
    "# Look at numeric columns\n",
    "\n",
    "# Look at categorical columns"
   ]
  },
  {
   "cell_type": "code",
   "execution_count": null,
   "id": "113f049f",
   "metadata": {},
   "outputs": [],
   "source": [
    "# Select only rows with BMI between 19 and 25 and older than 60\n",
    "# Use describe to verify"
   ]
  },
  {
   "cell_type": "code",
   "execution_count": null,
   "id": "9c82d2f5",
   "metadata": {},
   "outputs": [],
   "source": [
    "# Drop column DoctorInCharge as it is not informative"
   ]
  },
  {
   "cell_type": "code",
   "execution_count": null,
   "id": "d5b165b2",
   "metadata": {},
   "outputs": [],
   "source": [
    "# How many different ethinicities are in the dataset, what are those and how many participants they include?\n"
   ]
  },
  {
   "cell_type": "code",
   "execution_count": null,
   "id": "9dc0f31b",
   "metadata": {},
   "outputs": [],
   "source": [
    "# Plot distribution of numeric data on histograms, all columns\n"
   ]
  },
  {
   "cell_type": "code",
   "execution_count": null,
   "id": "1b1ba78b",
   "metadata": {},
   "outputs": [],
   "source": [
    "# Plot histograms but this time include only those columns that have non-binary (0,1) content\n"
   ]
  },
  {
   "cell_type": "code",
   "execution_count": null,
   "id": "406d9de8",
   "metadata": {},
   "outputs": [],
   "source": [
    "# Plot countplot with number of records per gender category\n"
   ]
  },
  {
   "cell_type": "code",
   "execution_count": null,
   "id": "27ff329e",
   "metadata": {},
   "outputs": [],
   "source": [
    "# Plot correlation heatmap but use only columns with non binary data - prepared in the step before\n"
   ]
  },
  {
   "cell_type": "code",
   "execution_count": null,
   "id": "23f7a58c",
   "metadata": {},
   "outputs": [],
   "source": [
    "# Plot boxplot with x axis representing Diagnosis and y axis representing UPDRS score"
   ]
  },
  {
   "cell_type": "markdown",
   "id": "34f2b2b2",
   "metadata": {},
   "source": [
    "---\n",
    "### 9. Gentle introduction to numpy\n",
    "---"
   ]
  },
  {
   "cell_type": "markdown",
   "id": "4790daf6",
   "metadata": {},
   "source": [
    "NumPy is the fundamental package for scientific computing in Python. It is a Python library that provides a multidimensional array object, various derived objects (such as masked arrays and matrices), and an assortment of routines for fast operations on arrays, including mathematical, logical, shape manipulation, sorting, selecting, I/O, discrete Fourier transforms, basic linear algebra, basic statistical operations, random simulation and much more.\n",
    "\n",
    " - NumPy arrays have a fixed size at creation, unlike Python lists (which can grow dynamically). Changing the size of an ndarray will create a new array and delete the original.\n",
    "\n",
    " - The elements in a NumPy array are all required to be of the same data type, and thus will be the same size in memory.  \n",
    " \n",
    " - NumPy arrays facilitate advanced mathematical and other types of operations on large numbers of data. "
   ]
  },
  {
   "cell_type": "markdown",
   "id": "385144d4",
   "metadata": {},
   "source": [
    "| **Name**              | **Type**  | **Description**                                               |\n",
    "| --------------------- | --------- | ------------------------------------------------------------- |\n",
    "| `ndarray.shape`       | Attribute | Returns a tuple representing the dimensions of the array.     |\n",
    "| `ndarray.ndim`        | Attribute | Returns the number of dimensions (axes) of the array.         |\n",
    "| `ndarray.size`        | Attribute | Returns the total number of elements in the array.            |\n",
    "| `ndarray.dtype`       | Attribute | Returns the data type of the array elements.                  |\n",
    "| `ndarray.T`           | Attribute | Returns the transposed version of the array.                  |\n",
    "| `np.array()`          | Method    | Creates a NumPy array from a Python list or tuple.            |\n",
    "| `np.zeros()`          | Method    | Creates an array filled with zeros.                           |\n",
    "| `np.ones()`           | Method    | Creates an array filled with ones.                            |\n",
    "| `np.arange()`         | Method    | Creates an array with regularly spaced values within a range. |\n",
    "| `np.reshape()`        | Method    | Changes the shape of an array without changing its data.      |\n",
    "| `np.sum()`            | Method    | Computes the sum of array elements.                           |\n",
    "| `np.mean()`           | Method    | Computes the mean (average) of the array elements.            |\n",
    "| `np.std()`            | Method    | Computes the standard deviation.                              |\n",
    "| `np.max()`            | Method    | Returns the maximum value in the array.                       |\n",
    "| `np.min()`            | Method    | Returns the minimum value in the array.                       |\n"
   ]
  },
  {
   "cell_type": "code",
   "execution_count": null,
   "id": "92c51cbd",
   "metadata": {},
   "outputs": [],
   "source": [
    "import numpy as np"
   ]
  },
  {
   "cell_type": "markdown",
   "id": "95a8196e",
   "metadata": {},
   "source": [
    "#### 9.1. Creating arrays"
   ]
  },
  {
   "cell_type": "code",
   "execution_count": null,
   "id": "8791adaf",
   "metadata": {},
   "outputs": [],
   "source": [
    "# Create a 1D array\n",
    "arr1 = np.array([1, 2, 3, 4])\n",
    "print(\"1D array:\", arr1)\n",
    "\n",
    "# Create a 2D array\n",
    "arr2 = np.array([[1, 2, 3], [4, 5, 6]])\n",
    "print(\"2D array:\\n\", arr2)\n",
    "\n",
    "# Create arrays with default values\n",
    "zeros = np.zeros((2, 3))     # 2 rows, 3 columns of zeros\n",
    "ones = np.ones((3, 2))       # 3 rows, 2 columns of ones\n",
    "\n",
    "\n",
    "print(\"Zeros:\\n\", zeros)\n",
    "print(\"Ones:\\n\", ones)\n",
    "\n",
    "# Create a sequence of numbers\n",
    "# Use arange function - analogous to range with start, step and interval\n",
    "\n",
    "print(\"Ranges\")\n",
    "print(np.arange(10, 30, 5))\n",
    "print(np.arange(4))\n"
   ]
  },
  {
   "cell_type": "markdown",
   "id": "95ffe529",
   "metadata": {},
   "source": [
    "#### 9.2. Array operations"
   ]
  },
  {
   "cell_type": "code",
   "execution_count": null,
   "id": "42a0d3a3",
   "metadata": {},
   "outputs": [],
   "source": [
    "a = np.array([1, 2, 3])\n",
    "b = np.array([4, 5, 6])\n",
    "\n",
    "# Element-wise operations\n",
    "print(\"a + b:\", a + b)\n",
    "print(\"a * b:\", a * b)\n",
    "print(\"a squared:\", a ** 2)\n",
    "\n"
   ]
  },
  {
   "cell_type": "markdown",
   "id": "09caf627",
   "metadata": {},
   "source": [
    "#### 9.3 Basic numpy functions and array attributes"
   ]
  },
  {
   "cell_type": "code",
   "execution_count": null,
   "id": "d22d7212",
   "metadata": {},
   "outputs": [],
   "source": [
    "arr = np.array([[1, 2, 3], [4, 5, 6]])\n",
    "\n",
    "print(\"Shape:\", arr.shape)\n",
    "print(\"Data type:\", arr.dtype)\n",
    "print(\"Max:\", np.max(arr))\n",
    "print(\"Min:\", np.min(arr))\n",
    "print(\"Sum:\", np.sum(arr))\n",
    "print(\"Mean:\", np.mean(arr))\n",
    "print(\"Standard Deviation:\", np.std(arr))\n"
   ]
  },
  {
   "cell_type": "markdown",
   "id": "d0e16ebd",
   "metadata": {},
   "source": [
    "#### 9.4 More complex but very useful numpy functions\n",
    " - `concatenate()` - function is used to join two or more arrays along an existing axis\n",
    " - `convolve()` - performs a discrete, linear convolution of two 1-dimensional sequences"
   ]
  },
  {
   "cell_type": "code",
   "execution_count": 3,
   "id": "e1f3b065",
   "metadata": {},
   "outputs": [
    {
     "name": "stdout",
     "output_type": "stream",
     "text": [
      "1D Concatenation: [1 2 3 4 5 6]\n",
      "2D Concatenation along axis 0:\n",
      " [[1 2]\n",
      " [3 4]\n",
      " [5 6]]\n",
      "2D Concatenation along axis 1:\n",
      " [[1 2 7]\n",
      " [3 4 8]]\n"
     ]
    }
   ],
   "source": [
    "# 1D Arrays\n",
    "a = np.array([1, 2, 3])\n",
    "b = np.array([4, 5, 6])\n",
    "\n",
    "# Concatenate along axis 0\n",
    "result_1d = np.concatenate((a, b))\n",
    "print(\"1D Concatenation:\", result_1d)\n",
    "\n",
    "# 2D Arrays\n",
    "c = np.array([[1, 2], [3, 4]])\n",
    "d = np.array([[5, 6]])\n",
    "\n",
    "# Concatenate along axis 0 (rows)\n",
    "result_2d_axis0 = np.concatenate((c, d), axis=0)\n",
    "print(\"2D Concatenation along axis 0:\\n\", result_2d_axis0)\n",
    "\n",
    "# Concatenate along axis 1 (columns)\n",
    "e = np.array([[7], [8]])\n",
    "result_2d_axis1 = np.concatenate((c, e), axis=1)\n",
    "print(\"2D Concatenation along axis 1:\\n\", result_2d_axis1)"
   ]
  },
  {
   "cell_type": "code",
   "execution_count": null,
   "id": "6b2f64d2",
   "metadata": {},
   "outputs": [
    {
     "name": "stdout",
     "output_type": "stream",
     "text": [
      "Full: [0.  1.  2.5 4.  1.5]\n",
      "Same: [1.  2.5 4. ]\n",
      "Valid: [2.5]\n"
     ]
    }
   ],
   "source": [
    "# Convolution \"slides\" the kernel over the signal and multiplies-and-sums overlapping values.\n",
    "\n",
    "# Signal and kernel\n",
    "signal = np.array([1, 2, 3])\n",
    "kernel = np.array([0, 1, 0.5])\n",
    "\n",
    "# Full convolution\n",
    "full = np.convolve(signal, kernel, mode='full')\n",
    "print(\"Full:\", full)\n",
    "\n",
    "# Same size as original\n",
    "same = np.convolve(signal, kernel, mode='same')\n",
    "print(\"Same:\", same)\n",
    "\n",
    "# Valid part only (no padding)\n",
    "valid = np.convolve(signal, kernel, mode='valid')\n",
    "print(\"Valid:\", valid)"
   ]
  },
  {
   "cell_type": "markdown",
   "id": "cec298e2",
   "metadata": {},
   "source": [
    "---\n",
    "### 10. Introduction to functions\n",
    "---\n",
    "\n",
    "In this lesson, you will learn how to design, implement, and organise your code with functions. As you will realise further on, functions are just a piece of code that will let you perform a specific task multiple times without duplicating any code."
   ]
  },
  {
   "cell_type": "markdown",
   "id": "86d4ce3d",
   "metadata": {},
   "source": [
    "### 10.1 Definitions"
   ]
  },
  {
   "cell_type": "markdown",
   "id": "adaf349f",
   "metadata": {},
   "source": [
    "Every function has 2 parts: a header and a body. \n",
    "The header specifies the name of the function and its argument(s).\n",
    "The body specifies the work that the function does.\n",
    "\n",
    "For example, \n"
   ]
  },
  {
   "cell_type": "code",
   "execution_count": null,
   "id": "8f2e026c",
   "metadata": {},
   "outputs": [],
   "source": [
    "def multiply_by_five(input_variable):\n",
    "    output_variable = input_variable * 5\n",
    "    return output_variable"
   ]
  },
  {
   "cell_type": "markdown",
   "id": "07918f44",
   "metadata": {},
   "source": [
    "In this case, the header will be the part composed by: \n",
    "\n",
    "**<font color=\"blue\">def</font> <font color=\"black\">multiply_by_five(input_variable):</font>**\n",
    "\n",
    "\n",
    "and the body is the rest of the function:\n",
    "\n",
    "\n",
    "&nbsp;&nbsp;&nbsp;&nbsp;**<font color=\"black\">output_variable = input_variable * 5</font>**\n",
    "\n",
    "&nbsp;&nbsp;&nbsp;&nbsp;&nbsp;&nbsp;&nbsp;&nbsp;&nbsp;**<font color=\"blue\">return</font> <font color=\"black\">output_variable</font>**"
   ]
  },
  {
   "cell_type": "markdown",
   "id": "d1b6df74",
   "metadata": {},
   "source": [
    "&rarr;  **<font color=\"blue\">def</font>**: This is the key word that tells Pyhton we are about to define a function.\n",
    "\n",
    "&rarr;  **<font color=\"black\">multiply_by_five</font>**: This is the name you choose for your function. It can be whatever you like.\n",
    "\n",
    "&rarr;  **<font color=\"black\">(input_variable):</font>**: This is called the argument. It is the name of the variable the function will use. You can also have a function with no argument, or with multiple arguments. It is always enclosed in parantheses that appear immediately after the name of the function. For every function, the parentheses enclosing the function argument(s) must be followed by a colon : .\n",
    "\n",
    "&rarr;  **<font color=\"blue\">return</font>**: This is the key word that tells Python we are about to exit a function.\n",
    "\n",
    "&rarr;  **<font color=\"black\">output_variable</font>** is the value that is returned when the function is exited. You can add as many values as you like the function to return. "
   ]
  },
  {
   "cell_type": "markdown",
   "id": "7b5dace7",
   "metadata": {},
   "source": [
    "### 10.2 How to run (or \"call\") a function"
   ]
  },
  {
   "cell_type": "markdown",
   "id": "af572c22",
   "metadata": {},
   "source": [
    "In the code below, we run the function with 10 as the input value. \n",
    "It is important to note that the new variables created inside the function will not be callable outside, and vice versa: the elements that are not in the argument will not be able to be used inside the body of the function. \n",
    "\n",
    "Let's see an example of these rules."
   ]
  },
  {
   "cell_type": "code",
   "execution_count": null,
   "id": "f1297592",
   "metadata": {},
   "outputs": [],
   "source": [
    "# first, we can define our original variable:\n",
    "\n",
    "my_number = 10\n",
    "print(my_number)"
   ]
  },
  {
   "cell_type": "code",
   "execution_count": null,
   "id": "558ba2b3",
   "metadata": {},
   "outputs": [],
   "source": [
    "# now, we can call the function with that input value, and obtain the output:\n",
    "\n",
    "new_number = multiply_by_five(my_number)\n",
    "print(new_number)"
   ]
  },
  {
   "cell_type": "markdown",
   "id": "35d634f5",
   "metadata": {},
   "source": [
    "What we have learned so far:\n",
    "1. We have to run the function **BEFORE** we call it. Sometimes, developers place all the functions at the top of the document and then they run the code. \n",
    "\n",
    "2. The name of the function should only use lowercase letters, with words separated by underscores and **NOT** spaces. As for the variables, the functions should not start with a number; e.g. 5_multiply() would be wrong."
   ]
  },
  {
   "cell_type": "code",
   "execution_count": null,
   "id": "5a88704a",
   "metadata": {},
   "outputs": [],
   "source": [
    "def 2_print_hello():\n",
    "    print(\"Hello World!\")\n",
    "\n",
    "2_print_hello()"
   ]
  },
  {
   "cell_type": "markdown",
   "id": "3f3c6e33",
   "metadata": {},
   "source": [
    "Naming, designing and calling fuctions will feel natural over time. It is normal for it to feel uncomfortable at first. To fix this, let's go over some easy examples."
   ]
  },
  {
   "cell_type": "markdown",
   "id": "83f872d0",
   "metadata": {},
   "source": [
    "### 10.3 Examples"
   ]
  },
  {
   "cell_type": "markdown",
   "id": "08304686",
   "metadata": {},
   "source": [
    "##### 10.3.1 Functions with no arguments."
   ]
  },
  {
   "cell_type": "code",
   "execution_count": null,
   "id": "4ea22477",
   "metadata": {},
   "outputs": [],
   "source": [
    "def my_function():\n",
    "  print(\"Hello world!\")\n",
    "\n",
    "my_function()"
   ]
  },
  {
   "cell_type": "code",
   "execution_count": null,
   "id": "6602b1b0",
   "metadata": {},
   "outputs": [],
   "source": [
    "# Try it yourself! Write a function that prints \"Hello World!\" 5 times.\n",
    "\n",
    "# Add the code here\n",
    "\n",
    "my_function()"
   ]
  },
  {
   "cell_type": "code",
   "execution_count": null,
   "id": "71710642",
   "metadata": {},
   "outputs": [],
   "source": [
    "# Those functions are called \"void\" functions, as they do not return any values.\n",
    "# you can also return a value from a function. \n",
    "\n",
    "# The elements inside the function that are not returned will not be callable outside the function. e.g:\n",
    "def my_function():\n",
    "    string = \"Hello World!\"\n",
    "    number = 5    # randomly create a variable to test this\n",
    "    return string\n",
    "\n",
    "string = my_function()\n",
    "print(string)\n",
    "print(number)\n",
    "# as you can see, the string returned is accessible outside the function, but the number is not\n"
   ]
  },
  {
   "cell_type": "code",
   "execution_count": null,
   "id": "8edc2c3b",
   "metadata": {},
   "outputs": [],
   "source": [
    "# Functions cannot be empty, but if you have a function definition with no content, you can add the pass statement to avoid errors:\n",
    "def my_function():"
   ]
  },
  {
   "cell_type": "code",
   "execution_count": null,
   "id": "69abf146",
   "metadata": {},
   "outputs": [],
   "source": [
    "def my_function():\n",
    "    pass\n",
    "\n",
    "# this does not return anything, but is not an error\n",
    "my_function()"
   ]
  },
  {
   "cell_type": "code",
   "execution_count": null,
   "id": "a0cd5fe6",
   "metadata": {},
   "outputs": [],
   "source": [
    "print(my_function())"
   ]
  },
  {
   "cell_type": "markdown",
   "id": "5b68c923",
   "metadata": {},
   "source": [
    "##### 10.3.2 Functions with strings"
   ]
  },
  {
   "cell_type": "code",
   "execution_count": null,
   "id": "135d3d72",
   "metadata": {},
   "outputs": [],
   "source": [
    "def add_surname(name):\n",
    "    return name + \" Smith\" # we don't have to create a variable. We can just return the result.\n",
    "\n",
    "print(add_surname(\"John\"))\n",
    "print(add_surname(\"Michael\"))\n",
    "print(add_surname(\"Paul\"))"
   ]
  },
  {
   "cell_type": "code",
   "execution_count": null,
   "id": "21c2bd2a",
   "metadata": {},
   "outputs": [],
   "source": [
    "# we can also see that if we add the wrong number of arguments, we will get an error:\n",
    "print(add_surname(\"John\", \"Michael\"))"
   ]
  },
  {
   "cell_type": "markdown",
   "id": "9949d6bb",
   "metadata": {},
   "source": [
    "It is important that you understand how to read and understand these errors and not rely on AI to tell you what they mean!"
   ]
  },
  {
   "cell_type": "code",
   "execution_count": null,
   "id": "931d9d0a",
   "metadata": {},
   "outputs": [],
   "source": [
    "# Try it yourself! Do a function that will replace the base T for U in a DNA sequence. \n",
    "\n",
    "# Add the code here\n",
    "\n",
    "\n",
    "replace_t_u(\"ATGTTC\")"
   ]
  },
  {
   "cell_type": "code",
   "execution_count": null,
   "id": "a0b61e93",
   "metadata": {},
   "outputs": [],
   "source": [
    "# Try it yourself! Write a function that cleans a sentence from different punctuation marks.\n",
    "    # HINT: there is a python method that can replace specific charaters with another specific set of characters. \n",
    "    # https://docs.python.org/3/library/stdtypes.html#str.replace - look for str.replace() to read the documentation.\n",
    "\n",
    "# Add the code here\n",
    "\n",
    "clean_sentence(string = \"Hello,world!&My_name|is:John\")"
   ]
  },
  {
   "cell_type": "code",
   "execution_count": null,
   "id": "0d70b154",
   "metadata": {},
   "outputs": [],
   "source": [
    "# You can also pass a list as an argument the same way you would pass a string.\n",
    "def list_items(items):\n",
    "    print(items)\n",
    "\n",
    "list_items([\"pineapples\", \"banana\", \"oranges\"])"
   ]
  },
  {
   "cell_type": "markdown",
   "id": "110c73fa",
   "metadata": {},
   "source": [
    "##### 10.3.3 Arbitrary arguments. Choosing from a tuple."
   ]
  },
  {
   "cell_type": "code",
   "execution_count": null,
   "id": "e9ceded6",
   "metadata": {},
   "outputs": [],
   "source": [
    "# If you are unsure about the number of arguments that will be passed into your function,\n",
    "# you can add a * before the parameter name in the function definition. \n",
    "\n",
    "# an example with a tuple as the input:\n",
    "def find_youngest(*ages):\n",
    "    print(\"The youngest person is \", ages[-1], \" years old\")\n",
    "\n",
    "find_youngest(12, 10, 8, 6)"
   ]
  },
  {
   "cell_type": "code",
   "execution_count": null,
   "id": "225a7a11",
   "metadata": {},
   "outputs": [],
   "source": [
    "# Try it yourself! Create a function that will find the average of heart rate measurements given an undefined list of measurements.\n",
    "\n",
    "# Add the code here\n",
    "\n",
    "\n",
    "average = avg_heart_rate(120, 70, 80, 68, 55, 90)\n",
    "print(average)"
   ]
  },
  {
   "cell_type": "code",
   "execution_count": null,
   "id": "61f7426c",
   "metadata": {},
   "outputs": [],
   "source": [
    "# Try it yourself! Create a function that will find the total count of a specific base in any number of given DNA sequences.\n",
    "\n",
    "\n",
    "total_match = count_bases(\"ATCGCG\", \"GGGTTTGCACT\", \"ACCGCTAGG\", matched_base='C')\n",
    "print(total_match)"
   ]
  },
  {
   "cell_type": "markdown",
   "id": "28acbfe2",
   "metadata": {},
   "source": [
    "##### 10.3.4 Keyword arguments"
   ]
  },
  {
   "cell_type": "code",
   "execution_count": null,
   "id": "ac5eb5c4",
   "metadata": {},
   "outputs": [],
   "source": [
    "# If you have a function with many parameters, you can use kwyword arguments to pass the correct values to the function.\n",
    "def sum_and_multiply(sum1, sum2, sum3, multiply2, multiply3):\n",
    "    sum_result = sum1 + sum2 + sum3\n",
    "\n",
    "    multiply_result = sum_result * multiply2 * multiply3\n",
    "\n",
    "    return multiply_result\n",
    "\n",
    "result = sum_and_multiply(sum1=1, sum2=2, sum3=3, multiply2=4, multiply3=5)\n",
    "print(result)"
   ]
  },
  {
   "cell_type": "code",
   "execution_count": null,
   "id": "a0a1d282",
   "metadata": {},
   "outputs": [],
   "source": [
    "# an interesting thing to note is that the order of the arguments does not matter as long as they are named.\n",
    "\n",
    "# Try it yourself!\n",
    "\n",
    "result2 = sum_and_multiply(multiply3=5, sum2=2, sum1=1, sum3=3, multiply2=4)\n",
    "print(result2)\n",
    "\n"
   ]
  },
  {
   "cell_type": "code",
   "execution_count": null,
   "id": "72be74c1",
   "metadata": {},
   "outputs": [],
   "source": [
    "# Now, try removing the names of some of the arguments, and see what happens.\n",
    "result3 = sum_and_multiply(1, sum2=2, 3, multiply2=4, multiply3=5)\n",
    "print(result3)\n",
    "\n",
    "# If you get an error (positional argument follows keyword argument), that's okay. \n",
    "# This means that the function is expecting the arguments to be in a specific order.\n",
    "# If you remove the names, the function will not know which value belongs to which parameter. If you want to remove some names, and not others, you can only remove the names of the first parameters. \n",
    "# For example, this will work:\n",
    "result4 = sum_and_multiply(1, 2, 3, multiply2=4, multiply3=5)\n",
    "print(result4)\n"
   ]
  },
  {
   "cell_type": "code",
   "execution_count": null,
   "id": "c299f024",
   "metadata": {},
   "outputs": [],
   "source": [
    "# but this will not:\n",
    "result5 = sum_and_multiply(1, 2, 3, multiply2=4, 5)\n",
    "print(result5)"
   ]
  },
  {
   "cell_type": "markdown",
   "id": "992dcea9",
   "metadata": {},
   "source": [
    "##### 10.3.5 Arbitrary keyword arguments (kwargs)"
   ]
  },
  {
   "cell_type": "code",
   "execution_count": null,
   "id": "9d13155a",
   "metadata": {},
   "outputs": [],
   "source": [
    "# If you do not know how many keyword arguments that will be passed into your function, add two asterisk: ** before the parameter name in the function definition.\n",
    "# This way the function will receive a *dictionary* of arguments, and can access the items accordingly:\n",
    "\n",
    "\n",
    "# .......... REVIEW THIS EXAMPLE INTO DICTIONARY ......\n",
    "\n",
    "\n",
    "def sum_squares(**numbers):\n",
    "    sum_squares = numbers[\"num1\"]**2 + numbers[\"num2\"]**2\n",
    "    return sum_squares\n",
    "result = sum_squares(num1=2, num2=4, num3=6)\n",
    "print(result)"
   ]
  },
  {
   "cell_type": "code",
   "execution_count": null,
   "id": "d7e77080",
   "metadata": {},
   "outputs": [],
   "source": [
    "# Try it yourself! Create a function that will find add a random amount of metadata to a given participant and return the updated participant info in dictionary format.\n",
    "\n",
    "# Add your code here\n",
    "\n",
    "\n",
    "participant_info = add_metadata(\"S-10\", gender=\"female\", age=25, height=170, weight=60)\n",
    "print(participant_info)\n"
   ]
  },
  {
   "cell_type": "code",
   "execution_count": null,
   "id": "7ce730ef",
   "metadata": {},
   "outputs": [],
   "source": [
    "# Try it yourself! Create a function that will accept any set of channels (e.g. gNA, gK, gLeak, etc) and return the total and the normalized fractions per channel\n",
    "\n",
    "# HINT: to access the arguments in the functions, you can use the .items() method. https://docs.python.org/3/library/stdtypes.html#dict.items\n",
    "# for example, if you have a dictionary and want to access the keys and the values:\n",
    "my_dict = {\n",
    "    \"key1\": \"value1\",\n",
    "    \"key2\": \"value2\",\n",
    "    \"key3\": \"value3\",\n",
    "    \"key4\": \"value4\"\n",
    "}\n",
    "\n",
    "for key, value in my_dict.items():\n",
    "    print(key, value)\n",
    "\n",
    "\n",
    "# Add your code here\n",
    "\n",
    "\n",
    "total, fractions = channel_fractions(gNa=120, gK=36, gLeak=0.3)\n",
    "print(f\"Total conductance: {total}\")\n",
    "print(f\"Fractions: {fractions}\")\n"
   ]
  },
  {
   "cell_type": "markdown",
   "id": "07608ed8",
   "metadata": {},
   "source": [
    "##### 10.3.6 Default parameter value"
   ]
  },
  {
   "cell_type": "code",
   "execution_count": null,
   "id": "66bab16d",
   "metadata": {},
   "outputs": [],
   "source": [
    "# You will find situations where you will want to set a default parameter value, that can be overridden with a new value upon request.\n",
    "def sum_squares(num1=5, num2=10):\n",
    "    sum_squares = num1**2 + num2**2\n",
    "    return sum_squares\n",
    "\n",
    "result = sum_squares() # the default values that are used are 5, and 10, respectively. \n",
    "print(f'The result with the default values is {result}') \n",
    "\n",
    "result = sum_squares(num2 = 20) # we can change only one of the values\n",
    "print(f'The result with num2=20 is {result}') \n",
    "\n",
    "result = sum_squares(4, 3) # or override both values\n",
    "print(f'The result with num1=4, and num2=3 is {result}') "
   ]
  },
  {
   "cell_type": "code",
   "execution_count": null,
   "id": "25d3bdca",
   "metadata": {},
   "outputs": [],
   "source": [
    "# You can set the default value to any data type, such as dictionaries, lists, tuples, boolean values, etc. \n",
    "# Let's practice with a boolean value. Try it yourself! Create a function that ignores a specific base or bases of a DNA sequence. If multple bases are added, ignore any matching bases. No need to match the order.\n",
    "\n",
    "def ignore_bases(sequence, *bases, ignore=True):\n",
    "    if ignore:\n",
    "        for base in bases:\n",
    "            sequence = sequence.replace(base, \"\")                \n",
    "    return sequence\n",
    "\n",
    "\n",
    "original_sequence = \"ATCGATCGATCG\"\n",
    "print(original_sequence)\n",
    "\n",
    "new_sequence = ignore_bases(original_sequence, \"A\", \"T\", \"C\", ignore=True)\n",
    "print(new_sequence)\n",
    "\n",
    "# now, make sure it works with a single base \n",
    "new_sequence2 = ignore_bases(original_sequence, \"A\", ignore=True)\n",
    "print(new_sequence2)"
   ]
  },
  {
   "cell_type": "markdown",
   "id": "1a476885",
   "metadata": {},
   "source": [
    "##### 10.3.7 Calculate the total number of occurances of the base (A, C, T, G) in a given DNA sequence "
   ]
  },
  {
   "cell_type": "code",
   "execution_count": null,
   "id": "1eefe25b",
   "metadata": {},
   "outputs": [],
   "source": [
    "def count_base(sequence, base):\n",
    "    base_count = 0  # We have to initialise the variable that will count the numbers\n",
    "\n",
    "    # To loop through the sequence, we have to loop from 0 until the end. \n",
    "    # First, we have to find the length of the sequence.\n",
    "    sequence_length = len(sequence)\n",
    "\n",
    "    for idx in range(sequence_length):\n",
    "        seq_base = sequence[idx] # this is the base for the current index.\n",
    "        if seq_base == base: # if the current sequence matches the base, we add 1 to the base_counter\n",
    "            base_count += 1\n",
    "    \n",
    "    return base_count\n",
    "\n",
    "# We have now defined the function. Let's define the variables:\n",
    "sequence1 = 'ACGTACGTACGT'\n",
    "sequence2 = 'TTATCGACTTC'\n",
    "\n",
    "base1 = 'C'\n",
    "\n",
    "sequence1_count = count_base(sequence1, base1)\n",
    "print(f\"In the first squence, {sequence1}, the base {base1} appears {sequence1_count} times\")\n",
    "\n",
    "# we can also use the function without defining the variable if we don't want to store it in memory\n",
    "sequence2_count = count_base(sequence2, \"T\")\n",
    "print(f\"In the second squence, {sequence2}, the base 'T' appears {sequence2_count} times\")\n"
   ]
  },
  {
   "cell_type": "markdown",
   "id": "44226909",
   "metadata": {},
   "source": [
    "It is good practice to document the function you are creating for future use, especially if you are working with multiple people on a project. You need to define what the arguments inputs are, what the function does, and what it returns. If working with multiple variables and data structures, additional documentation would include the shape, size or type of the array that it returns."
   ]
  },
  {
   "cell_type": "code",
   "execution_count": null,
   "id": "d2b753a6",
   "metadata": {},
   "outputs": [],
   "source": [
    "# one way to document the function is the following:\n",
    "def count_base(sequence, base):\n",
    "    ''' \n",
    "    Calculate the total number of occurances of a base in a DNA sequence.\n",
    "    \n",
    "    Args: \n",
    "        sequence: str, the DNA sequence to be analysed\n",
    "        base: str, the base to count in the sequence\n",
    "    \n",
    "    Returns:\n",
    "        base_count: int, the total number of occurances in the sequence\n",
    "\n",
    "    '''\n",
    "    base_count = 0 \n",
    "    sequence_length = len(sequence)\n",
    "\n",
    "    # Loop through every base in the sequence\n",
    "    for idx in range(sequence_length):\n",
    "        seq_base = sequence[idx]\n",
    "\n",
    "        # Match the current base to the desired base\n",
    "        if seq_base == base: \n",
    "            base_count += 1\n",
    "    \n",
    "    return base_count"
   ]
  },
  {
   "cell_type": "code",
   "execution_count": null,
   "id": "e7dc2096",
   "metadata": {},
   "outputs": [],
   "source": [
    "# As you can see, we used the function \"range()\" to loop thruogh the sequence. Let's practice with this.\n",
    "x = range(3, 10)\n",
    "print(x)"
   ]
  },
  {
   "cell_type": "code",
   "execution_count": null,
   "id": "d807971c",
   "metadata": {},
   "outputs": [],
   "source": [
    "# This creates a sequence of each of the numbers from 3 to 9:\n",
    "for i in x:\n",
    "    print(i)"
   ]
  },
  {
   "cell_type": "code",
   "execution_count": null,
   "id": "c5514bc2",
   "metadata": {},
   "outputs": [],
   "source": [
    "# if we want to access the elements of the sequence:\n",
    "for idx, value in enumerate(x):\n",
    "    print(\"index: \", idx, \" value: \", value)"
   ]
  },
  {
   "cell_type": "markdown",
   "id": "409b8ac7",
   "metadata": {},
   "source": [
    "Remember that python indexing starts from 0. "
   ]
  },
  {
   "cell_type": "code",
   "execution_count": null,
   "id": "fe25bdc2",
   "metadata": {},
   "outputs": [],
   "source": [
    "# We can also add a step to the range. For example, let's print all the even numbers between 0 and 10:\n",
    "x = range(0, 10, 2)\n",
    "for i in x:\n",
    "    print(i)"
   ]
  },
  {
   "cell_type": "code",
   "execution_count": null,
   "id": "eb98d878",
   "metadata": {},
   "outputs": [],
   "source": [
    "# we can also access the elements as a list by converting the range to a list:\n",
    "print(list(x))"
   ]
  },
  {
   "cell_type": "code",
   "execution_count": null,
   "id": "48826e2e",
   "metadata": {},
   "outputs": [],
   "source": [
    "# And only accessing the first 5 elements:\n",
    "x = range(0, 20, 2)\n",
    "y = x[:5]\n",
    "print('Original list: ', list(x))\n",
    "print('First 5 elements of the list: ', list(y))"
   ]
  },
  {
   "cell_type": "markdown",
   "id": "7679fb2c",
   "metadata": {},
   "source": [
    "##### 10.3.8 Examples with increasing complexity comprising all these concepts"
   ]
  },
  {
   "cell_type": "code",
   "execution_count": null,
   "id": "48d5d904",
   "metadata": {},
   "outputs": [],
   "source": [
    "# Convert a DNA sequence to RNA (by replacing T with U in the sequence)\n",
    "def convert_to_rna(dna):\n",
    "    rna = dna.replace(\"T\", \"U\")\n",
    "    return rna \n",
    "\n",
    "rna = convert_to_rna(\"ATGTTCA\")\n",
    "print(f'The RNA sequence is {rna}')\n",
    "\n",
    "# what if the string is not clean?\n",
    "rna = convert_to_rna(\"atgTtca\")\n",
    "print(f'The RNA sequence is {rna}')\n",
    "\n",
    "# it will only convert the EXTACT matches. Try creating a function that will convert all the bases to uppercase:\n",
    "\n",
    "# Add your code here\n",
    "\n",
    "print(f'The RNA sequence is {rna}')"
   ]
  },
  {
   "cell_type": "code",
   "execution_count": null,
   "id": "d21c7bf3",
   "metadata": {},
   "outputs": [],
   "source": [
    "# Count the total number of codon occurances in a large DNA sequence. Adapt to count more than one codon.\n",
    "\n",
    "# Add your code here\n",
    "\n",
    "\n",
    "count_codons(\"ATGAAAATGCCCAATGGHS\", \"ATG\", \"GCC\")"
   ]
  },
  {
   "cell_type": "code",
   "execution_count": null,
   "id": "d021a1a2",
   "metadata": {},
   "outputs": [],
   "source": [
    "# Access the centre point of a nested array (centroid).\n",
    "\n",
    "array = [[1, 2, 3, 4, 5], \n",
    "         [4, 5, 6, 3, 7], \n",
    "         [7, 8, 9, 7, 1]]\n",
    "\n",
    "centroid, value = access_centroid(array)\n",
    "print(\"The centroid location in the array is: \", centroid)\n",
    "print(\"The value at the centroid is: \", value)"
   ]
  },
  {
   "cell_type": "code",
   "execution_count": null,
   "id": "9f00834f",
   "metadata": {},
   "outputs": [],
   "source": [
    "# What if the nested array is missing some values?\n",
    "array = [[1, 2, 3,     ], \n",
    "         [4, 5, 6, 3, 7], \n",
    "         [7, 8, 9, 7   ]]\n",
    "\n",
    "centroid, value = access_centroid(array)\n",
    "print(\"The centroid location in the array is: \", centroid)\n",
    "print(\"The value at the centroid is: \", value)\n",
    "\n",
    "# We can clean the data by imputing the missing values with various methods. You can try it with the mean of all the values in that row.\n",
    "def clean_array(array, method=\"mean\"):\n",
    "    width = max(len(row) for row in array)\n",
    "    total_mean = sum(sum(row) for row in array) / sum(len(row) for row in array)\n",
    "    for row in array:\n",
    "        if len(row) < width:\n",
    "            number_missing_cols = width - len(row)\n",
    "            for i in range(number_missing_cols, width-1):\n",
    "                if method == \"mean\":\n",
    "                    row.append(int(sum(row) / len(row)))\n",
    "                elif method == \"total_mean\":\n",
    "                    row.append(int(total_mean))\n",
    "    return array\n",
    "\n",
    "cleaned_array = clean_array(array, \"total_mean\")\n",
    "print(\"The new cleaned array is: \", cleaned_array)\n",
    "\n",
    "centroid, value = access_centroid(cleaned_array)\n",
    "print(\"The centroid location in the cleaned array is: \", centroid)\n",
    "print(\"The value at the centroid is: \", value)"
   ]
  },
  {
   "cell_type": "code",
   "execution_count": null,
   "id": "ccea385f",
   "metadata": {},
   "outputs": [],
   "source": [
    "# Analyse the spike trains of an input neuron. Adapt for multple neurons. Return mean, median and standard deviation of each of the spike trains.\n",
    "        # HINT: you can add nested functions inside another function to further modularise your code. In this example, we have added four nested functions to calculate the four different metrics.\n",
    "\n",
    "# LEAVE SOME SPACES BLANK FOR THEM TO FILL IN\n",
    "\n",
    "def analyze_spike_train(*trains, start, end):\n",
    "    # Add smaller, locally-available functions to calculate each metric\n",
    "    def calculate_mean(train):\n",
    "        return sum(train) / len(train)\n",
    "\n",
    "    def calculate_median(train):\n",
    "        return sorted(train)[len(train)//2]\n",
    "    \n",
    "    def calculate_std(train):\n",
    "        mean = calculate_mean(train) # calculate the mean of the train \n",
    "        return (sum((x-mean)**2 for x in train) / len(train))**0.5\n",
    "    \n",
    "    def sampling_frequency(train, start, end):\n",
    "        return len(train) / (end - start)\n",
    "\n",
    "\n",
    "    data = {}\n",
    "    for idx, train in enumerate(trains):\n",
    "        data[f\"Train {idx+1}\"] = {}\n",
    "        data[f\"Train {idx+1}\"][\"mean\"] = calculate_mean(train)\n",
    "        data[f\"Train {idx+1}\"][\"median\"] = calculate_median(train)\n",
    "        data[f\"Train {idx+1}\"][\"std\"] = calculate_std(train)\n",
    "        data[f\"Train {idx+1}\"][\"sampling_freq\"] = sampling_frequency(train, start, end)\n",
    "\n",
    "    return data\n",
    "\n",
    "    \n",
    "\n",
    "train1 = [0.05, 0.10, 0.30, 0.305, 1.2]\n",
    "train2 = [0.02, 0.50, 0.70, 1.1, 1.4, 1.41]\n",
    "\n",
    "data = analyze_spike_train(train1, train2, start=0.0, end=1.5)\n",
    "print(data)\n"
   ]
  }
 ],
 "metadata": {
  "kernelspec": {
   "display_name": "ML_project",
   "language": "python",
   "name": "python3"
  },
  "language_info": {
   "codemirror_mode": {
    "name": "ipython",
    "version": 3
   },
   "file_extension": ".py",
   "mimetype": "text/x-python",
   "name": "python",
   "nbconvert_exporter": "python",
   "pygments_lexer": "ipython3",
   "version": "3.13.7"
  }
 },
 "nbformat": 4,
 "nbformat_minor": 5
}

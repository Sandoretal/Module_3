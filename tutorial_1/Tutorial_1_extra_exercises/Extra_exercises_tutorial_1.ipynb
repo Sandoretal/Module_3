{
 "cells": [
  {
   "cell_type": "markdown",
   "id": "89cace37",
   "metadata": {},
   "source": [
     "\n",
    "# Real-world data coding for neuroscientists (ReCoN)\n",
    "\n",
    "### MSc in Translational Neuroscience,\n",
    "\n",
    "### Department of Brain Sciences, Faculty of Medicine,\n",
    "\n",
    "### Imperial College London\n",
    "\n",
    "### Contributors: Katarzyna Marta Zoltowska, Cecilia Rodriguez, Rishideep Chatterjee, Marirena Bafaloukou, Anastasia Ilina, Sahar Rahbar, Cynthia Sandor\n",
    "\n",
    "### Autumn 2025"
   ]
  },
  {
   "cell_type": "markdown",
   "id": "1b3c2c6f",
   "metadata": {},
   "source": [
    "## Exercises to practise python programming and pandas dataframe processing"
   ]
  },
  {
   "cell_type": "markdown",
   "id": "c0f430ce",
   "metadata": {},
   "source": [
    "##### The aim of the following exercises is to practise basic programming concepts\n",
    "\n",
    "Please do not worry about the assert statement in the cells. It is there to guide you whether your solution is correct. If it raises an error, this means that you still need to improve your solution."
   ]
  },
  {
   "cell_type": "markdown",
   "id": "2f38a9f0",
   "metadata": {},
   "source": [
    "#### Task 1\n",
    "Given two DNA sequences of equal length, the Hamming distance between those sequences is the number of corresponding symbols that differ.\n",
    "Write a python function that to calculate hamming distance"
   ]
  },
  {
   "cell_type": "code",
   "execution_count": null,
   "id": "149b3add",
   "metadata": {},
   "outputs": [],
   "source": [
    "# Write your code here \n",
    "\n",
    "def hamming_distance(a,b):\n",
    "   \n",
    "\n",
    "   \n",
    "\n",
    "assert hamming_distance(\"GAGCCTACTAACGGGAT\", \"CATCGTAATGACGGCCT\")==7, \"There is a mistake in your function. The expected distance is 7\"\n",
    "assert hamming_distance(\"GG\", \"CC\")==2, \"There is a mistake in your function. The expected distance is 2\"\n",
    "assert hamming_distance(\"CC\", \"CC\")==0, \"There is a mistake in your function. The expected distance is 0\""
   ]
  },
  {
   "cell_type": "markdown",
   "id": "862176da",
   "metadata": {},
   "source": [
    "#### Task 2\n",
    "\n",
    "In DNA strings, symbols 'A' and 'T' are complements of each other, as are 'C' and 'G'.\n",
    "\n",
    "Write a function that returns a reverse complementary DNA sequence. Make sure that your function works both for uppoer and lower letter DNA sequences. If the letter is not in [A,T,C,G] just skip it."
   ]
  },
  {
   "cell_type": "code",
   "execution_count": null,
   "id": "cf1c7c48",
   "metadata": {},
   "outputs": [],
   "source": [
    "# Write your code here\n",
    "\n",
    "def rev_compl(seq):\n",
    " \n",
    "\n",
    "\n",
    " \n",
    "\n",
    "assert rev_compl(\"GAGCCTACTAACGGGAT\") == \"ATCCCGTTAGTAGGCTC\", \"There is a mistake in your function. The expected reverse complement is ATCCCGTTAGTAGGCTC\"\n",
    "assert rev_compl(\"atcg\") == \"CGAT\", \"There is a mistake in your function. The expected reverse complement is CGAT\"\n",
    "assert rev_compl(\"aattGGCC\") == \"GGCCAATT\", \"There is a mistake in your function. The expected reverse complement is GGCCAATT\""
   ]
  },
  {
   "cell_type": "markdown",
   "id": "69305b96",
   "metadata": {},
   "source": [
    "#### Task 3\n",
    "This task builds on the hamming distance. \n",
    "Two DNA samples — one from a healthy individual and one from a patient — have been sequenced. Find whether the patient’s sequence contains mutations (differences) compared to the healthy sequence.\n",
    "Write a function called mutation_report(seq1, seq2) that:\n",
    " - Checks if both sequences have the same length (DNA sequences must align). If not the function stops and prints that the sequences are of different length.\n",
    " - Counts how many positions differ between the two.\n",
    " - Prints each mutation position and the change (e.g., \"Position 5: A → G\").\n",
    " - Returns the total number of mutations.\n",
    "\n",
    "Test your function with:\n",
    "\n",
    "healthy = \"ATGCTAGCTAGCTTACG\"\n",
    "\n",
    "patient = \"ATGCGAGATAGCCTACG\""
   ]
  },
  {
   "cell_type": "code",
   "execution_count": null,
   "id": "50fd8e41",
   "metadata": {},
   "outputs": [],
   "source": [
    "healthy = \"ATGCTAGCTAGCTTACG\"\n",
    "\n",
    "patient = \"ATGCGAGATAGCCTACG\"\n",
    "\n",
    "def mutation_report(seq1, seq2):\n",
    "\n",
    "\n",
    "\n",
    "\n",
    "\n",
    "assert mutation_report(\"ATGCTAGCTAGCTTACG\", \"ATGCGAGATAGCCTACG\") == 3, \"Expected 3 mutations between the healthy and patient sequences.\"\n",
    "assert mutation_report(\"ATGC\", \"ATGC\") == 0, \"Expected 0 mutations for identical sequences.\"\n",
    "assert mutation_report(\"AAAA\", \"TTTT\") == 4, \"Expected 4 mutations when all bases differ.\"\n",
    "assert mutation_report(\"atgc\", \"aTgG\") == 1, \"Expected 1 mutation; function should handle lowercase input.\""
   ]
  },
  {
   "cell_type": "markdown",
   "id": "6e4e5cfa",
   "metadata": {},
   "source": [
    "#### Task 4\n",
    "\n",
    "Each patient reports one or more symptoms related to neurological, general, or psychological health. The goal is to count how many patients report each symptom and visualize the most common ones.\n",
    "Note that there are white spaces in some string and some of them have uppercase letters. Use respective string methods to correct that.\n",
    "Write a function that returns a dictionary with the symptom:number of occurances pairs"
   ]
  },
  {
   "cell_type": "code",
   "execution_count": null,
   "id": "f4749747",
   "metadata": {},
   "outputs": [],
   "source": [
    "# Patient symptoms\n",
    "patients = {\n",
    "    \"P001\": [\"headache\", \"fatiguE\", \"memory loss\"],\n",
    "    \"P002\": [\"dizziness\", \"nausea\"],\n",
    "    \"P003\": [\"headache\", \"vision problems\", \" difficulty concentrating\"],\n",
    "    \"P004\": [\"fatigue\", \"anxiety\", \"sleep problems\"],\n",
    "    \"P005\": [\"headache\", \"nausea\", \"vomiting\"],\n",
    "    \"P006\": [\"dizziness\", \"blurred vision\"],\n",
    "    \"P007\": [\"memory loss\", \"confusion\", \"anxiety\"],\n",
    "    \"P008\": [\"tremor\", \"fatigue\"],\n",
    "    \"P009\": [\"Headache \", \"dizziness\", \"confusion\"],\n",
    "    \"P010\": [\"sleep problems\", \" Anxiety\", \"fatigue\"],\n",
    "}\n",
    "\n",
    "# Write here your count_symptoms() function\n",
    "def count_symptoms(patient_dict):\n",
    "\n",
    "\n",
    "\n",
    "\n",
    "\n",
    "\n",
    "count_symptoms(patients)"
   ]
  },
  {
   "cell_type": "markdown",
   "id": "c930bc7d",
   "metadata": {},
   "source": [
    "#### Task 5 \n",
    "\n",
    "##### Exercises to practise python programming and pandas dataframe processing\n",
    "\n",
    "##### The aim of the exercise is to explore clinical and demographic data recorded for healthy individuals and Alzheimer's disease patients.\n",
    "\n",
    "The dataset is adapted from: https://www.kaggle.com/datasets/rabieelkharoua/alzheimers-disease-dataset"
   ]
  },
  {
   "cell_type": "code",
   "execution_count": null,
   "id": "6bfac3b0",
   "metadata": {},
   "outputs": [],
   "source": [
    "# Import the modules that you need for the project\n"
   ]
  },
  {
   "cell_type": "markdown",
   "id": "c1985408",
   "metadata": {},
   "source": [
    "How many rows and columns are in the dataset?\n",
    "\n",
    "What are the names of the columns?\n",
    "\n",
    "Are all columns informative?"
   ]
  },
  {
   "cell_type": "code",
   "execution_count": null,
   "id": "0326534b",
   "metadata": {},
   "outputs": [],
   "source": [
    "# Load the data\n",
    "\n",
    "\n",
    "# How many rows and columns are there?\n",
    "\n",
    "\n",
    "# Print column names\n",
    "\n",
    "\n",
    "# Display first 5 rows of the dataframe\n",
    "\n",
    "\n",
    "# As you may noticed not all the columns are visible\n",
    "# Can you split the dataframe into column chunks and display 10 columns at once (1-10,11-20,21-30, 31-35), lopping through the chunks. As you may need this code later, write a function\n",
    "# Note: when the dataframe is the last line in the code cell, it is by default displayed in the notebook, but if it is in the middle, then not. Use display in that case.\n",
    "\n",
    "\n",
    "# Use this function to display 3 first rows for all columns\n",
    "\n"
   ]
  },
  {
   "cell_type": "markdown",
   "id": "d81d48dc",
   "metadata": {},
   "source": [
    "Set patient id as index and drop column Doctor in charge"
   ]
  },
  {
   "cell_type": "code",
   "execution_count": null,
   "id": "f20b6ca4",
   "metadata": {},
   "outputs": [],
   "source": [
    "# set index\n",
    "\n",
    "\n",
    "# Drop column doctor in charge\n"
   ]
  },
  {
   "cell_type": "markdown",
   "id": "170bbed9",
   "metadata": {},
   "source": [
    "Confirm if it worked by displaying 4 rows of the dataframe using your function"
   ]
  },
  {
   "cell_type": "code",
   "execution_count": null,
   "id": "73582a96",
   "metadata": {},
   "outputs": [],
   "source": [
    "# Display first 4 rows of the modified dataframe \n"
   ]
  },
  {
   "cell_type": "markdown",
   "id": "bfb8bbcb",
   "metadata": {},
   "source": [
    "How many categorical and numeric columns are there? \n",
    "Check the datatypes as well as data ditribution (histogram). Are all numeric columns continous?"
   ]
  },
  {
   "cell_type": "code",
   "execution_count": null,
   "id": "29965ece",
   "metadata": {},
   "outputs": [],
   "source": [
    "# Check data types\n",
    "\n",
    "\n",
    "# Plot histograms\n"
   ]
  },
  {
   "cell_type": "markdown",
   "id": "faa15f24",
   "metadata": {},
   "source": [
    "Is there any correlation between different variables? \n",
    "\n",
    "Plot correlation heatmap and pairplots (color the pairplots by Diagnosis)\n",
    "\n",
    "Take a look how to set a larger figure size, so all the labels are displayed\n",
    "(https://matplotlib.org/stable/api/_as_gen/matplotlib.pyplot.figure.html)"
   ]
  },
  {
   "cell_type": "code",
   "execution_count": null,
   "id": "4d7e7d9f",
   "metadata": {},
   "outputs": [],
   "source": [
    "# Heatmap\n"
   ]
  },
  {
   "cell_type": "markdown",
   "id": "fd305455",
   "metadata": {},
   "source": [
    "Looking at the heatmap. Which columns are best correlated with AD diagnosis? Is it what you expected?"
   ]
  },
  {
   "cell_type": "code",
   "execution_count": null,
   "id": "653b3aec",
   "metadata": {},
   "outputs": [],
   "source": [
    "# Plot pairplots\n"
   ]
  },
  {
   "cell_type": "markdown",
   "id": "6934e725",
   "metadata": {},
   "source": [
    "How many unique diagnosis values are there? How many participants per group?"
   ]
  },
  {
   "cell_type": "code",
   "execution_count": null,
   "id": "17cb14fa",
   "metadata": {},
   "outputs": [],
   "source": [
    "# Look at the diagnoses"
   ]
  },
  {
   "cell_type": "markdown",
   "id": "1d23f98a",
   "metadata": {},
   "source": [
    "Replace the numeric values in the diagnosis column with CTRL and AD, 0 is CTRL and 1 is AD\n",
    "\n",
    "Take a look at the replace function https://pandas.pydata.org/docs/reference/api/pandas.DataFrame.replace.html"
   ]
  },
  {
   "cell_type": "code",
   "execution_count": null,
   "id": "624e2936",
   "metadata": {},
   "outputs": [],
   "source": [
    "# Change the 0 and 1 values in the diagnosis column\n"
   ]
  },
  {
   "cell_type": "markdown",
   "id": "0358d5ca",
   "metadata": {},
   "source": [
    "Plot a count plot with the distribution of the Diagnosis values"
   ]
  },
  {
   "cell_type": "code",
   "execution_count": null,
   "id": "b8ee3f4f",
   "metadata": {},
   "outputs": [],
   "source": [
    "# Plot countplot\n"
   ]
  },
  {
   "cell_type": "markdown",
   "id": "10d9175f",
   "metadata": {},
   "source": [
    "Do you think that it is a balanced dataset in terms of number of individuals in the CTRL and PD class?"
   ]
  },
  {
   "cell_type": "markdown",
   "id": "8d811e63",
   "metadata": {},
   "source": [
    "Filter the dataframe  - include only participants with age greater than 60 and non-smokers (smoking is 0)"
   ]
  },
  {
   "cell_type": "code",
   "execution_count": null,
   "id": "af195d84",
   "metadata": {},
   "outputs": [],
   "source": [
    "# Filter the dataframe\n",
    "\n",
    "\n",
    "# Check the filtering - look at the min age in your new dataframe and smoking values\n"
   ]
  },
  {
   "cell_type": "markdown",
   "id": "0589407e",
   "metadata": {},
   "source": [
    "MMSE stands for the Mini-Mental State Examination, a 30-point questionnaire used to screen for cognitive impairment, such as dementia. \n",
    "\n",
    "Plot a boxplot to determine if there is any difference between the MMSE between CTRL and AD patients. Do not worry about statistical significance at this point. You will learn that in the next workshop.\n",
    "Try both build in pandas boxplot https://pandas.pydata.org/docs/reference/api/pandas.DataFrame.boxplot.html  and seaborn package https://seaborn.pydata.org/generated/seaborn.boxplot.html.\n",
    "\n",
    "Remember  - documentation is your best friend not AI!\n",
    "\n",
    "Explore seaborn boxplot documentation: https://seaborn.pydata.org/generated/seaborn.boxplot.html\n",
    " - try to adjust colors of the boxplot - explore color palettes: deep, muted, pastel, bright, dark, tab10 \n",
    " - change the orientation to horizontal\n",
    " - group the boxplot by gender"
   ]
  },
  {
   "cell_type": "code",
   "execution_count": null,
   "id": "4890bafe",
   "metadata": {},
   "outputs": [],
   "source": [
    "# Plot a boxplot \n"
   ]
  },
  {
   "cell_type": "code",
   "execution_count": null,
   "id": "ebb623ba",
   "metadata": {},
   "outputs": [],
   "source": [
    "# Plot a boxplot\n"
   ]
  },
  {
   "cell_type": "code",
   "execution_count": null,
   "id": "6ae0a2e6",
   "metadata": {},
   "outputs": [],
   "source": [
    "# Nicer boxplot\n"
   ]
  },
  {
   "cell_type": "markdown",
   "id": "2caea506",
   "metadata": {},
   "source": [
    "Take a closer look at the distribution of the MMSE scores among the individuals\n",
    "\n",
    "Explore the distplot() function in the seaborn documentation https://seaborn.pydata.org/tutorial/distributions.html\n",
    "\n",
    "Explort further hist() function in pandas https://pandas.pydata.org/docs/reference/api/pandas.DataFrame.hist.html - we plotted histograms of all columns before, can you select the column to plot and the column to split based on the diagnosis"
   ]
  },
  {
   "cell_type": "code",
   "execution_count": null,
   "id": "9ffe6c27",
   "metadata": {},
   "outputs": [],
   "source": [
    "# Plot the data distribution\n"
   ]
  },
  {
   "cell_type": "code",
   "execution_count": null,
   "id": "b77f10bc",
   "metadata": {},
   "outputs": [],
   "source": [
    "# Plot distribution using build in pandas .hist function\n"
   ]
  },
  {
   "cell_type": "markdown",
   "id": "b4ee90ae",
   "metadata": {},
   "source": [
    "Sometimes ratios of certain diagnostic assays may be more informative in clinical context - add columns to the dataframe as a ratio of CholesterolHDL/CholesterolLDL\n",
    "\n",
    "There are multiple methods to complete this exercise: https://pandas.pydata.org/docs/getting_started/intro_tutorials/05_add_columns.html\n",
    "\n",
    " - simple column addition https://pandas.pydata.org/docs/reference/api/pandas.DataFrame.insert.html\n",
    " - `assign()` function https://pandas.pydata.org/docs/reference/api/pandas.DataFrame.assign.html\n",
    " - you can also insert this column in a specific place `insert()`https://pandas.pydata.org/docs/reference/api/pandas.DataFrame.insert.html\n",
    "\n",
    "Check the documentation for each of the methods and try it on your dataframe, generating 3 extra columns named: HDL_LDL_ratio_method1, HDL_LDL_ratio_method2 and HDL_LDL_ratio_method3\n",
    "\n",
    "What happens if you try to re-run the cell with insert function? "
   ]
  },
  {
   "cell_type": "code",
   "execution_count": null,
   "id": "6f5fa855",
   "metadata": {},
   "outputs": [],
   "source": [
    "# Use simple column addition method\n"
   ]
  },
  {
   "cell_type": "code",
   "execution_count": null,
   "id": "f5dc6d36",
   "metadata": {},
   "outputs": [],
   "source": [
    "# Use assign method\n"
   ]
  },
  {
   "cell_type": "code",
   "execution_count": null,
   "id": "b595fbb8",
   "metadata": {},
   "outputs": [],
   "source": [
    "# Use insert method - insert as a second column\n"
   ]
  }
 ],
 "metadata": {
  "kernelspec": {
   "display_name": "scanpy",
   "language": "python",
   "name": "python3"
  },
  "language_info": {
   "codemirror_mode": {
    "name": "ipython",
    "version": 3
   },
   "file_extension": ".py",
   "mimetype": "text/x-python",
   "name": "python",
   "nbconvert_exporter": "python",
   "pygments_lexer": "ipython3",
   "version": "3.11.12"
  }
 },
 "nbformat": 4,
 "nbformat_minor": 5
}
